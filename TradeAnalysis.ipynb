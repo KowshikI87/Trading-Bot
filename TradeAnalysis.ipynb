{
 "cells": [
  {
   "cell_type": "markdown",
   "metadata": {},
   "source": [
    "# 1.0 Project Goal"
   ]
  },
  {
   "cell_type": "markdown",
   "metadata": {},
   "source": [
    "This project implements 2 of the 6 stock trading algorithm dicussed in the [Become a Day Trader Course by Investopedia](https://academy.investopedia.com/products/become-a-day-trader)\n",
    "\n",
    "The project consists of two parts: \n",
    "- First a python file that simulates trading Apple's stock during March 10, 2020 to April 3, 2020 using the trading algorithms from Investopedia's course\n",
    "- Second is this Jupyter Notebook that describes the methodology behind the trading bot, result of trading from previous step and future improvement"
   ]
  },
  {
   "cell_type": "markdown",
   "metadata": {},
   "source": [
    "# 2.0 Project Inspiration\n",
    "\n",
    "This project was inspired by the stock market crash of March 2020 and intended to be used as a comprehensive system to trade stocks and make money.\n",
    "\n",
    "The bulls or people confident in the market lost a lot of money in March 2020 crash. However, the bears or the people betting against the market made a fortune. Within a few weeks, the market started its uptrend again and reached an all-time high within few months from nearly 50% down.  The rapid decline and rise in the market provided a tremendous opportunity for profit and served as a very inspirational moment. Instead of making money only once, depending on whether I was a bull or bear, I wanted to make money all the time. \n",
    "\n",
    "Trading stocks is a losing game for most people: 90% of traders lose money, and only 10% make money consistently. From my research and experience in the stock market, some of the best predictors for success in trading are managing emotions, processing information quickly to see patterns before others, and executing fast. Thus, I embarked on a journey to create a trading bot that would be able to do all of this better than I ever could. \n",
    "\n",
    "This project looks at a relatively simple trading bot that will serve as the building block of a comprehensive trading system. This bot uses two out of 6 algorithms from Investopedia's day trading course. The other four algorithms were not precise, and I wanted a working bot released as quickly as possible for testing and optimization purposes. The bot trades Apple's stock only and also operates under an ideal condition, which simplified the buying and selling process of stocks. With all that said, let's see how the trading bot does with an initial balance of USD 10,000"
   ]
  },
  {
   "cell_type": "markdown",
   "metadata": {},
   "source": [
    "# 3.0 Background into Stock Market and Day Trading"
   ]
  },
  {
   "cell_type": "markdown",
   "metadata": {},
   "source": [
    "## 3.1 Investing vs. Day Trading and Short vs. Long Position\n",
    "\n",
    "When buying a particular stock, knowledgable investors typically use a combination of the company's fundamentals, stock's price chart, and related news to determine whether to go long on a stock or short it.\n",
    "\n",
    "When an investor is confident that stock's price will increase, he buys the stock and profits when the stock's price rises. In trading terminologies, this is going on long on a stock. On the other hand, if an investor expects a stock's price to go down, he would short the stock. Shorting a stock means that he loans shares and sells it in the open market with the hope that he can buy and return the shares back to the owner at a lower price. There are other securities that traders can trade which are out of scope for this project.\n",
    "\n",
    "A trader typically holds a stock for a much shorter period than an investor. A day trader would close off his positions at the end of the business day. The rationale behind this is to help him mentally check out and start fresh the following day. Also, a day trader only looks at the stock's price chart to make trading decisions.  This trading bot day trades. So all of the positions are closed at the end of the day, and only the stock's price chart is used to make trading decisions.\n",
    "\n",
    "\n",
    "## 3.2 Different Type of Orders\n",
    "\n",
    "For simplification, the different types of orders when buying stocks using a broker will be explained from the perspective of an investor intending to go long on a stock.\n",
    "\n",
    "When buying shares, the buyer can specify a market order or limit order. A market order will instruct the broker's bot to purchase shares at the best current price; this price is usually very close or the same as the current stock's price shown by the broker. For a limit order, the buyer specifies what price he wishes to buy a specific number of shares; this price is called the limit price and is usually lower than the current stock's price.\n",
    "\n",
    "When selling shares, the buyer can specify a market order, limit order, or stop-loss order. Just like with buying shares, a market order will instruct the broker's bot to sell the specified number of shares asap at the best possible price. For a limit order, the buyer specifies what price he wishes to sell a specific number of shares; this price is called the limit price, and this price is typically equal to or above the stock's current price. For a stop-loss order, the seller specifies the stop-loss price which if the stock price hits, the bots are to sell a specified number of shares automatically at the limit price or higher; the limit price and stop-loss price could be the same; both are usually below the current stock price.\n",
    "\n",
    "For shorting a stock, buying would imply loaning shares and selling on the market, and selling would mean buying shares back from the open market to return to the owner. All the trade algorithms here utilizes market order when buying.  For every purchase order, two other orders are specified for selling the position. The first order for selling is a limit sell order, and the second order is a stop-loss order. A profitable trade would be closed by a limit sell, and unprofitable trade would be closed by a stop-loss sell. For going long on a stock, the limit price for selling would be set higher than the purchase price, and the stop-loss price for selling would be set lower than the purchase price. For shorting a stock, the limit price for selling would be set lower than the purchase price, and the stop-loss price for selling would be set higher than the purchase price.\n",
    "\n",
    "\n",
    "## 3.3 Explanation of Derived Numbers and Their Purpose\n",
    "\n",
    "The following numbers are calculated from stock's data: SMA, EMA, RSI\n",
    "\n",
    "SMA stands for simple moving average. When calculating SMA, the time unit and time interval need to be specified. For example, calculating SMA for a period of 9 and a time unit of minutes would involve taking the closing price of a stock for the last 9 minutes and taking the average. SMA9 could denote this average for short. EMA stands for exponential moving average. The idea to calculate EMA is similar to that of SMA, but EMA gives more weight to recent data, unlike SMA, which gives equal weight to all the data. The bot utilizes EMA and SMA over 9, 15, 65, and 200-minute intervals are designated by SMA9, SMA15, SMA65, SMA200 or EMA9, EMA15, EMA65, EMA200\n",
    "\n",
    "RSI stands for relative strength index. Mathematically, RSI looks at average gain vs. average loss over a specific period; 14 minutes in this case. RSI ranges from 0 to 100. RSI of 30 or below indicates that the stock is oversold while RSI of 70 or above shows an overbought condition. RSI should not be used on its own to sell or buy stocks as stocks can stay overbought or oversold for a long time.\n",
    "\n",
    "The use of these derived numbers will be explained below when discussing the trading algorithms"
   ]
  },
  {
   "cell_type": "markdown",
   "metadata": {},
   "source": [
    "# 4.0 Trading Algorithms Theory\n",
    "\n",
    "The two trading algorithms the bot uses are Base Trade Algorithm and Far From Moving Average Trade Algorithm. The specific implementation of the trades can be studied from the code included in the repository. The basic theory of the algorithms are described below\n",
    "\n",
    "## 4.1 Base Trade Algorithm\n",
    "\n",
    "The base trade algorithm first ensures that a stock is in a \"Base\"; the stock's price should appear virtually flat for a minimum of 30 minutes. More specifically, the price should fluctuate no more than 0.5% of the stock's price. As soon as the stock's price moves out of the 0.5% range in either direction, place a market order for going long or short. The stop loss price is equal to the lowest/highest price during the base. Depending on the stock's price, the limit sell price is specified to reach a profit target of \\\\$0.25-\\\\$1 per share.\n",
    "\n",
    "## 4.2 Far From Moving Average Trade Algorithm\n",
    "\n",
    "Far from moving average trade algorithm first ensures that the stock has diverted more than $1.50 from the closest EMA and RSI is <=20 or >=80. When the stock's price starts to break its upward or downward spiral, place a market order for going short or long. The stop-loss order is placed on the lowest/highest point of the spiral, and the limit sell order should be specified to reach a target of no more than \\\\$1 profit per share."
   ]
  },
  {
   "cell_type": "markdown",
   "metadata": {},
   "source": [
    "# 5.0 Methodology\n",
    "\n",
    "\n",
    "## 5.1 Obtaining Data and Simulating Real-Time Trading\n",
    "\n",
    "All the stock's price data is obtained as a table (really a DataFrame) using the [Yahoo Finance python package](https://pypi.org/project/yahoo-finance). Yahoo Finance python package gives historical data of a stock's price over a different period; I chose to use 1 minute period. \n",
    "\n",
    "The following table illustrates the format of the data:"
   ]
  },
  {
   "cell_type": "code",
   "execution_count": 1,
   "metadata": {},
   "outputs": [],
   "source": [
    "import numpy as np\n",
    "import pandas as pd\n",
    "import yfinance as yf"
   ]
  },
  {
   "cell_type": "code",
   "execution_count": 2,
   "metadata": {},
   "outputs": [
    {
     "name": "stdout",
     "output_type": "stream",
     "text": [
      "[*********************100%***********************]  1 of 1 completed\n"
     ]
    },
    {
     "data": {
      "text/html": [
       "<div>\n",
       "<style scoped>\n",
       "    .dataframe tbody tr th:only-of-type {\n",
       "        vertical-align: middle;\n",
       "    }\n",
       "\n",
       "    .dataframe tbody tr th {\n",
       "        vertical-align: top;\n",
       "    }\n",
       "\n",
       "    .dataframe thead th {\n",
       "        text-align: right;\n",
       "    }\n",
       "</style>\n",
       "<table border=\"1\" class=\"dataframe\">\n",
       "  <thead>\n",
       "    <tr style=\"text-align: right;\">\n",
       "      <th></th>\n",
       "      <th>Open</th>\n",
       "      <th>High</th>\n",
       "      <th>Low</th>\n",
       "      <th>Close</th>\n",
       "      <th>Adj Close</th>\n",
       "      <th>Volume</th>\n",
       "    </tr>\n",
       "    <tr>\n",
       "      <th>Datetime</th>\n",
       "      <th></th>\n",
       "      <th></th>\n",
       "      <th></th>\n",
       "      <th></th>\n",
       "      <th></th>\n",
       "      <th></th>\n",
       "    </tr>\n",
       "  </thead>\n",
       "  <tbody>\n",
       "    <tr>\n",
       "      <td>2020-09-02 09:30:00-04:00</td>\n",
       "      <td>137.589996</td>\n",
       "      <td>137.979996</td>\n",
       "      <td>136.000000</td>\n",
       "      <td>136.059998</td>\n",
       "      <td>136.059998</td>\n",
       "      <td>11490492</td>\n",
       "    </tr>\n",
       "    <tr>\n",
       "      <td>2020-09-02 09:31:00-04:00</td>\n",
       "      <td>136.070007</td>\n",
       "      <td>136.619995</td>\n",
       "      <td>134.350006</td>\n",
       "      <td>134.885605</td>\n",
       "      <td>134.885605</td>\n",
       "      <td>4805439</td>\n",
       "    </tr>\n",
       "    <tr>\n",
       "      <td>2020-09-02 09:32:00-04:00</td>\n",
       "      <td>134.886703</td>\n",
       "      <td>135.030304</td>\n",
       "      <td>133.500000</td>\n",
       "      <td>134.689804</td>\n",
       "      <td>134.689804</td>\n",
       "      <td>3157176</td>\n",
       "    </tr>\n",
       "    <tr>\n",
       "      <td>2020-09-02 09:33:00-04:00</td>\n",
       "      <td>134.679993</td>\n",
       "      <td>135.300003</td>\n",
       "      <td>134.389999</td>\n",
       "      <td>135.179993</td>\n",
       "      <td>135.179993</td>\n",
       "      <td>1646789</td>\n",
       "    </tr>\n",
       "    <tr>\n",
       "      <td>2020-09-02 09:34:00-04:00</td>\n",
       "      <td>135.190002</td>\n",
       "      <td>135.449997</td>\n",
       "      <td>135.029999</td>\n",
       "      <td>135.274597</td>\n",
       "      <td>135.274597</td>\n",
       "      <td>1609374</td>\n",
       "    </tr>\n",
       "  </tbody>\n",
       "</table>\n",
       "</div>"
      ],
      "text/plain": [
       "                                 Open        High         Low       Close  \\\n",
       "Datetime                                                                    \n",
       "2020-09-02 09:30:00-04:00  137.589996  137.979996  136.000000  136.059998   \n",
       "2020-09-02 09:31:00-04:00  136.070007  136.619995  134.350006  134.885605   \n",
       "2020-09-02 09:32:00-04:00  134.886703  135.030304  133.500000  134.689804   \n",
       "2020-09-02 09:33:00-04:00  134.679993  135.300003  134.389999  135.179993   \n",
       "2020-09-02 09:34:00-04:00  135.190002  135.449997  135.029999  135.274597   \n",
       "\n",
       "                            Adj Close    Volume  \n",
       "Datetime                                         \n",
       "2020-09-02 09:30:00-04:00  136.059998  11490492  \n",
       "2020-09-02 09:31:00-04:00  134.885605   4805439  \n",
       "2020-09-02 09:32:00-04:00  134.689804   3157176  \n",
       "2020-09-02 09:33:00-04:00  135.179993   1646789  \n",
       "2020-09-02 09:34:00-04:00  135.274597   1609374  "
      ]
     },
     "execution_count": 2,
     "metadata": {},
     "output_type": "execute_result"
    }
   ],
   "source": [
    "test_data = yf.download (tickers = \"AAPL\", start= \"2020-09-02\", end = \"2020-09-03\", interval= \"1m\")\n",
    "test_data.head()"
   ]
  },
  {
   "cell_type": "markdown",
   "metadata": {},
   "source": [
    "Note that for the purpose of the trading bot, data for the stock is shown at 1 minute interval\n",
    "\n",
    "Datetime contains both date and time. The time part is formatted as *Current Time: 00-04:00*. 00-04:00 is 4 PM, which is when the North American stock market usually closes. \n",
    "\n",
    "Each row tells us what happened during a minute. For example, the first row is saying that between 9:30:00 AM to 9:30:59 AM, the stock's opening price was \\\\$137.59 (Open' column). During this minute, the stock's price reached a high of \\\\$137.98 ('High) and reached a low of \\\\$136 ('Low' Column). The stock's price at the end of the 30th minute of the day was \\\\$136:06 ('Close). During this minute, 11490492 shares changed hands ('Volume' column). Adj Close or Adjusted Close Price can be interpreted similarly to Closing price; it also factors in dividends, stock splits, new stock offerings. Usually 'Adj Close' and 'Close' price is the same\n",
    "\n",
    "Yahoo finance package does not give real-time data. It only provides historical price data. So, price data for April 16, 2020, can't be obtained until the end of April 16, 2020. In real-life, a bot could get live data minute by minute by calling the broker's API. To simulate this, this bot instead only receives one minute of data for each iteration of a central loop that encompasses the entire software. So, for a given day, in the first iteration of the loop, the bot would only have access to stock's price data to the end of 9:30 AM (market opens at 9:30 AM in North America). In the second iteration, the bot would have access to data until the end of 9:31 AM, and so on.\n",
    "\n",
    "Later on, DataFrame containing data similar to the data shown above, along with derived numbers such as SMA, EMA, and RSI, are used to aid in making trading decisions."
   ]
  },
  {
   "cell_type": "markdown",
   "metadata": {},
   "source": [
    "## 5.2 Constraints, Assumptions, and Overall Trading Process\n",
    "\n",
    "Here are initial conditions, constraints, and assumptions under which the bot operates\n",
    "- The starting capital is USD 10,000\n",
    "- The bot only trades Apple Stock (Ticker: AAPL)\n",
    "- The bot can only make one trade at a time\n",
    "- The maximum loss for a day is $100. \n",
    "- If both Base Trade Algorithm and Far From Moving Average trade signals are active at any minute, then base trade is given priority. This choice was made because the base trade algorithm theory is much more precise than the far from moving average trade algorithm\n",
    "- No trades are placed after 3:30 PM, and all the trades are closed by 3:50 PM. These limits are there to allow a trade setup to play out (the last possible trade in a day have 20 minutes to play out) and ensure that all positions are closed by the end of the day\n",
    "\n",
    "\n",
    "The overall program is executed as followed by the bot:\n",
    "1. Append one row of data to the DataFrame containing the stock's price data\n",
    "2. Calculate derived numbers (SMA, EMA, RSI) including the latest data\n",
    "3. Check if the base trade algorithm and or far from moving average generated a trading signal. \n",
    "4. Check if there is an active trade. If there is an active trade, then check if the positions should be closed based on stop-loss price and limit sell price\n",
    "5. Act on the trading signal from Step 3 if the following conditions are satisfied:\n",
    "    - No active trade\n",
    "    - Current time is 3:30 PM or earlier\n",
    "    - Maximum loss for the day won't be reached if the trade does not play out in our favor\n",
    "    \n",
    "As noted before, all buy orders are market order, and for every purchase order, two sell orders: limit sell and stop-loss sell are also issued.\n",
    "\n",
    "6.\tRepeat Step 1-5\n",
    "\n",
    "\n",
    "As stated before, when acting on a trading signal, the bot gives priority to base trade signals over far from moving average trade signals. During buying, the bot records buying time, buying price, and the number of shares. In each trade, all available capital is used to purchase shares. The broker fee is assumed to be $1 during selling or buying as per\n",
    "[Interactive Brokers website](https://www.interactivebrokers.ca/en/index.php?f=45251&p=stocks1)\n",
    "\n",
    "The selling time of a position and profit/loss is also recorded in the appropriate row in the trade summary table\n",
    "\n",
    "A stock's price is generally continuous. In real life, it seems that the stock's price is updated every second. However, the bot only has access to minute by minute data. Thus, at step 4, if there is an active trade and the bot detects that as per the latest data obtained in Step 1, the stock's price crossed either of the price threshold established by the limit and stop-loss sell, then it is assumed that the bot sold the position at the limit sell or stop-loss price. \n",
    "\n",
    "As an example, the bot receives data up to the end of 1:30 PM at 1:31 PM.  With the help of the algorithms, the bot purchases the stock at 1:31 PM at \\\\$273.75 per share. The limit sell price is set at \\\\$274 per share.  Within thirty seconds, the stock's price reached the price target of \\\\$274 per share. At 1:32 PM, the bot receives data up to the end of 1:31 PM. The bot sees that the stock's price closed at \\\\$275 at the end of 1:31 PM. Thus, we can assume that the broker's bot sold the shares at \\\\$274 per share due to the continuity assumption, and we achieved our profit target. This is a simplification of the selling process as alluded to before."
   ]
  },
  {
   "cell_type": "markdown",
   "metadata": {},
   "source": [
    "# 6.0 Result Analysis from the Trading Bot\n",
    "\n",
    "This section will analyze the data outputted by the trading bot as it simulated trading Apple's stock during March 10, 2020 to April 3, 2020\n",
    "\n",
    "The goal of the analysis will be first to see if the trading bot is profitable and second if can figure out some scenarios which are more profitable than others"
   ]
  },
  {
   "cell_type": "code",
   "execution_count": 3,
   "metadata": {},
   "outputs": [],
   "source": [
    "import datetime as dt\n",
    "import seaborn as sb\n",
    "import matplotlib.pyplot as plt"
   ]
  },
  {
   "cell_type": "markdown",
   "metadata": {},
   "source": [
    "This DataFrame is similar to DataFrame that is retrieved directly from Yahoo Finance. The DataFrame also contains the derived numbers: SMA, EMA, RSI, all of which have been described before. This modified DataFrame is used by the bot to store and retrieve the derived numbers."
   ]
  },
  {
   "cell_type": "markdown",
   "metadata": {},
   "source": [
    "# 6.1 Analysis of Profit and Loss Summary by Days"
   ]
  },
  {
   "cell_type": "code",
   "execution_count": 4,
   "metadata": {},
   "outputs": [
    {
     "data": {
      "text/html": [
       "<div>\n",
       "<style scoped>\n",
       "    .dataframe tbody tr th:only-of-type {\n",
       "        vertical-align: middle;\n",
       "    }\n",
       "\n",
       "    .dataframe tbody tr th {\n",
       "        vertical-align: top;\n",
       "    }\n",
       "\n",
       "    .dataframe thead th {\n",
       "        text-align: right;\n",
       "    }\n",
       "</style>\n",
       "<table border=\"1\" class=\"dataframe\">\n",
       "  <thead>\n",
       "    <tr style=\"text-align: right;\">\n",
       "      <th></th>\n",
       "      <th>Date</th>\n",
       "      <th>EndingBalance</th>\n",
       "    </tr>\n",
       "  </thead>\n",
       "  <tbody>\n",
       "    <tr>\n",
       "      <td>1</td>\n",
       "      <td>2020-03-10</td>\n",
       "      <td>10035.750000</td>\n",
       "    </tr>\n",
       "    <tr>\n",
       "      <td>2</td>\n",
       "      <td>2020-03-11</td>\n",
       "      <td>10017.750000</td>\n",
       "    </tr>\n",
       "    <tr>\n",
       "      <td>3</td>\n",
       "      <td>2020-03-12</td>\n",
       "      <td>9950.520477</td>\n",
       "    </tr>\n",
       "    <tr>\n",
       "      <td>4</td>\n",
       "      <td>2020-03-13</td>\n",
       "      <td>9950.520477</td>\n",
       "    </tr>\n",
       "    <tr>\n",
       "      <td>5</td>\n",
       "      <td>2020-03-16</td>\n",
       "      <td>9960.270477</td>\n",
       "    </tr>\n",
       "    <tr>\n",
       "      <td>6</td>\n",
       "      <td>2020-03-17</td>\n",
       "      <td>9960.270477</td>\n",
       "    </tr>\n",
       "    <tr>\n",
       "      <td>7</td>\n",
       "      <td>2020-03-18</td>\n",
       "      <td>9950.270477</td>\n",
       "    </tr>\n",
       "    <tr>\n",
       "      <td>8</td>\n",
       "      <td>2020-03-19</td>\n",
       "      <td>9960.020477</td>\n",
       "    </tr>\n",
       "    <tr>\n",
       "      <td>9</td>\n",
       "      <td>2020-03-20</td>\n",
       "      <td>9959.770477</td>\n",
       "    </tr>\n",
       "    <tr>\n",
       "      <td>10</td>\n",
       "      <td>2020-03-23</td>\n",
       "      <td>9971.020477</td>\n",
       "    </tr>\n",
       "    <tr>\n",
       "      <td>11</td>\n",
       "      <td>2020-03-24</td>\n",
       "      <td>9991.520477</td>\n",
       "    </tr>\n",
       "    <tr>\n",
       "      <td>12</td>\n",
       "      <td>2020-03-25</td>\n",
       "      <td>9988.258469</td>\n",
       "    </tr>\n",
       "    <tr>\n",
       "      <td>13</td>\n",
       "      <td>2020-03-26</td>\n",
       "      <td>10017.508469</td>\n",
       "    </tr>\n",
       "    <tr>\n",
       "      <td>14</td>\n",
       "      <td>2020-03-27</td>\n",
       "      <td>10076.008469</td>\n",
       "    </tr>\n",
       "    <tr>\n",
       "      <td>15</td>\n",
       "      <td>2020-03-30</td>\n",
       "      <td>10037.258469</td>\n",
       "    </tr>\n",
       "    <tr>\n",
       "      <td>16</td>\n",
       "      <td>2020-03-31</td>\n",
       "      <td>10046.508469</td>\n",
       "    </tr>\n",
       "    <tr>\n",
       "      <td>17</td>\n",
       "      <td>2020-04-01</td>\n",
       "      <td>10056.758469</td>\n",
       "    </tr>\n",
       "    <tr>\n",
       "      <td>18</td>\n",
       "      <td>2020-04-02</td>\n",
       "      <td>9995.258469</td>\n",
       "    </tr>\n",
       "    <tr>\n",
       "      <td>19</td>\n",
       "      <td>2020-04-03</td>\n",
       "      <td>9923.258469</td>\n",
       "    </tr>\n",
       "  </tbody>\n",
       "</table>\n",
       "</div>"
      ],
      "text/plain": [
       "          Date  EndingBalance\n",
       "1   2020-03-10   10035.750000\n",
       "2   2020-03-11   10017.750000\n",
       "3   2020-03-12    9950.520477\n",
       "4   2020-03-13    9950.520477\n",
       "5   2020-03-16    9960.270477\n",
       "6   2020-03-17    9960.270477\n",
       "7   2020-03-18    9950.270477\n",
       "8   2020-03-19    9960.020477\n",
       "9   2020-03-20    9959.770477\n",
       "10  2020-03-23    9971.020477\n",
       "11  2020-03-24    9991.520477\n",
       "12  2020-03-25    9988.258469\n",
       "13  2020-03-26   10017.508469\n",
       "14  2020-03-27   10076.008469\n",
       "15  2020-03-30   10037.258469\n",
       "16  2020-03-31   10046.508469\n",
       "17  2020-04-01   10056.758469\n",
       "18  2020-04-02    9995.258469\n",
       "19  2020-04-03    9923.258469"
      ]
     },
     "execution_count": 4,
     "metadata": {},
     "output_type": "execute_result"
    }
   ],
   "source": [
    "ending_balance = pd.read_csv('BalanceChange30Days.csv', index_col = 0)\n",
    "ending_balance"
   ]
  },
  {
   "cell_type": "markdown",
   "metadata": {},
   "source": [
    "This DataFrame shows the ending balance at the end of each day. The starting balance was USD 10,000 as stated before.\n",
    "\n",
    "At the end of 19 business days, the trading bot lost about \\\\$76.74. The result is a bit disappointing to see, especially considering that just two days before the end of the test run, it made a total profit of about \\\\$56.76. \n",
    "\n",
    "Let's dive deeper into the losing and winning days. Some minor cleanup on the data is done in the process"
   ]
  },
  {
   "cell_type": "code",
   "execution_count": 5,
   "metadata": {},
   "outputs": [],
   "source": [
    "#reset index so starting index is 0\n",
    "ending_balance.index = list(range(ending_balance.shape[0]))"
   ]
  },
  {
   "cell_type": "code",
   "execution_count": 6,
   "metadata": {},
   "outputs": [
    {
     "name": "stderr",
     "output_type": "stream",
     "text": [
      "C:\\Anaconda3\\lib\\site-packages\\ipykernel_launcher.py:3: SettingWithCopyWarning: \n",
      "A value is trying to be set on a copy of a slice from a DataFrame\n",
      "\n",
      "See the caveats in the documentation: http://pandas.pydata.org/pandas-docs/stable/user_guide/indexing.html#returning-a-view-versus-a-copy\n",
      "  This is separate from the ipykernel package so we can avoid doing imports until\n"
     ]
    }
   ],
   "source": [
    "#Add in starting balance column for each day\n",
    "ending_balance['StartingBalance'] = pd.Series()\n",
    "ending_balance['StartingBalance'][1:] = ending_balance['EndingBalance'][:-1]\n",
    "ending_balance.loc[0,'StartingBalance']= 10000 #First starting balance is 10,000\n",
    "\n",
    "#Calculate profit for each day\n",
    "ending_balance['Profit_Loss'] = ending_balance['EndingBalance'] - ending_balance['StartingBalance'] \n",
    "\n",
    "#label the ending and losing day to see distributoin of losses/profit for losing and winning days\n",
    "ending_balance['Profit_Loss_Label'] = pd.Series()\n",
    "ending_balance.loc [ending_balance['Profit_Loss']>=0, 'Profit_Loss_Label'] = 'Profit'\n",
    "ending_balance.loc [ending_balance['Profit_Loss']<0, 'Profit_Loss_Label'] = 'Loss'\n",
    "\n",
    "#Round off dollar amount to two decimal point\n",
    "for column in ['EndingBalance', 'StartingBalance', 'Profit_Loss']:\n",
    "    ending_balance[column] = ending_balance[column].round(2)\n",
    "    "
   ]
  },
  {
   "cell_type": "code",
   "execution_count": 7,
   "metadata": {},
   "outputs": [
    {
     "data": {
      "text/html": [
       "<div>\n",
       "<style scoped>\n",
       "    .dataframe tbody tr th:only-of-type {\n",
       "        vertical-align: middle;\n",
       "    }\n",
       "\n",
       "    .dataframe tbody tr th {\n",
       "        vertical-align: top;\n",
       "    }\n",
       "\n",
       "    .dataframe thead th {\n",
       "        text-align: right;\n",
       "    }\n",
       "</style>\n",
       "<table border=\"1\" class=\"dataframe\">\n",
       "  <thead>\n",
       "    <tr style=\"text-align: right;\">\n",
       "      <th></th>\n",
       "      <th>Date</th>\n",
       "      <th>EndingBalance</th>\n",
       "      <th>StartingBalance</th>\n",
       "      <th>Profit_Loss</th>\n",
       "      <th>Profit_Loss_Label</th>\n",
       "    </tr>\n",
       "  </thead>\n",
       "  <tbody>\n",
       "    <tr>\n",
       "      <td>0</td>\n",
       "      <td>2020-03-10</td>\n",
       "      <td>10035.75</td>\n",
       "      <td>10000.00</td>\n",
       "      <td>35.75</td>\n",
       "      <td>Profit</td>\n",
       "    </tr>\n",
       "    <tr>\n",
       "      <td>1</td>\n",
       "      <td>2020-03-11</td>\n",
       "      <td>10017.75</td>\n",
       "      <td>10035.75</td>\n",
       "      <td>-18.00</td>\n",
       "      <td>Loss</td>\n",
       "    </tr>\n",
       "    <tr>\n",
       "      <td>2</td>\n",
       "      <td>2020-03-12</td>\n",
       "      <td>9950.52</td>\n",
       "      <td>10017.75</td>\n",
       "      <td>-67.23</td>\n",
       "      <td>Loss</td>\n",
       "    </tr>\n",
       "    <tr>\n",
       "      <td>3</td>\n",
       "      <td>2020-03-13</td>\n",
       "      <td>9950.52</td>\n",
       "      <td>9950.52</td>\n",
       "      <td>0.00</td>\n",
       "      <td>Profit</td>\n",
       "    </tr>\n",
       "    <tr>\n",
       "      <td>4</td>\n",
       "      <td>2020-03-16</td>\n",
       "      <td>9960.27</td>\n",
       "      <td>9950.52</td>\n",
       "      <td>9.75</td>\n",
       "      <td>Profit</td>\n",
       "    </tr>\n",
       "  </tbody>\n",
       "</table>\n",
       "</div>"
      ],
      "text/plain": [
       "         Date  EndingBalance  StartingBalance  Profit_Loss Profit_Loss_Label\n",
       "0  2020-03-10       10035.75         10000.00        35.75            Profit\n",
       "1  2020-03-11       10017.75         10035.75       -18.00              Loss\n",
       "2  2020-03-12        9950.52         10017.75       -67.23              Loss\n",
       "3  2020-03-13        9950.52          9950.52         0.00            Profit\n",
       "4  2020-03-16        9960.27          9950.52         9.75            Profit"
      ]
     },
     "execution_count": 7,
     "metadata": {},
     "output_type": "execute_result"
    }
   ],
   "source": [
    "ending_balance.head()"
   ]
  },
  {
   "cell_type": "code",
   "execution_count": 8,
   "metadata": {},
   "outputs": [
    {
     "name": "stdout",
     "output_type": "stream",
     "text": [
      "Number of winning days are: 11\n",
      "Number of losing days are: 8\n"
     ]
    }
   ],
   "source": [
    "#Days when the bot broke even is counted as a winning day\n",
    "num_winning_days = (ending_balance['Profit_Loss']>=0).sum()\n",
    "num_losing_days = (ending_balance['Profit_Loss']<0).sum()\n",
    "\n",
    "print('Number of winning days are: {}'.format(num_winning_days))\n",
    "print('Number of losing days are: {}'.format(num_losing_days))"
   ]
  },
  {
   "cell_type": "code",
   "execution_count": 9,
   "metadata": {},
   "outputs": [],
   "source": [
    "#Create a temporary ending_balance DataFrame copy so we can use absolute value for losses/profit \n",
    "#This will make comparison easier\n",
    "temp_ending_balance = ending_balance.copy()\n",
    "temp_ending_balance['Profit_Loss'] = temp_ending_balance['Profit_Loss'].abs()"
   ]
  },
  {
   "cell_type": "code",
   "execution_count": 10,
   "metadata": {},
   "outputs": [
    {
     "data": {
      "text/plain": [
       "Text(0.5, 1.0, 'Distribution of Profits and Losses by Days')"
      ]
     },
     "execution_count": 10,
     "metadata": {},
     "output_type": "execute_result"
    },
    {
     "data": {
      "image/png": "[encoded data removed]",
      "text/plain": [
       "<Figure size 432x288 with 1 Axes>"
      ]
     },
     "metadata": {
      "needs_background": "light"
     },
     "output_type": "display_data"
    }
   ],
   "source": [
    "sb.boxplot(x = 'Profit_Loss_Label', y = 'Profit_Loss', data = temp_ending_balance)\n",
    "plt.xlabel('Trade Classification')\n",
    "plt.ylabel('Profit/Loss')\n",
    "plt.title('Distribution of Profits and Losses by Days')"
   ]
  },
  {
   "cell_type": "code",
   "execution_count": 11,
   "metadata": {},
   "outputs": [
    {
     "data": {
      "text/plain": [
       "count    11.000000\n",
       "mean     17.659091\n",
       "std      17.473291\n",
       "min       0.000000\n",
       "25%       9.500000\n",
       "50%      10.250000\n",
       "75%      24.875000\n",
       "max      58.500000\n",
       "Name: Profit_Loss, dtype: float64"
      ]
     },
     "execution_count": 11,
     "metadata": {},
     "output_type": "execute_result"
    }
   ],
   "source": [
    "#Statistics for winning days\n",
    "temp_ending_balance[temp_ending_balance['Profit_Loss_Label']=='Profit'].describe()['Profit_Loss']"
   ]
  },
  {
   "cell_type": "code",
   "execution_count": 12,
   "metadata": {},
   "outputs": [
    {
     "data": {
      "text/plain": [
       "count     8.000000\n",
       "mean     33.873750\n",
       "std      29.863805\n",
       "min       0.250000\n",
       "25%       8.315000\n",
       "50%      28.375000\n",
       "75%      62.932500\n",
       "max      72.000000\n",
       "Name: Profit_Loss, dtype: float64"
      ]
     },
     "execution_count": 12,
     "metadata": {},
     "output_type": "execute_result"
    }
   ],
   "source": [
    "#Statistics for losing days\n",
    "temp_ending_balance[temp_ending_balance['Profit_Loss_Label']=='Loss'].describe()['Profit_Loss']"
   ]
  },
  {
   "cell_type": "markdown",
   "metadata": {},
   "source": [
    "On average, the bot seems to be good at breaking even or making a profit since it broke even or made money in 11 days and lost money in 8 days.\n",
    "\n",
    "The box and whisker illustrate that during winning days, the profit is in a much narrower range compared to losses in losing days. The percentiles printed here confirms this: 50% of the time, the bot makes \\\\$10.25 or less during the winning days,  and 50% of the time, the bot losses \\\\$28.375 or less during losing days\n"
   ]
  },
  {
   "cell_type": "code",
   "execution_count": 13,
   "metadata": {},
   "outputs": [
    {
     "data": {
      "text/html": [
       "<div>\n",
       "<style scoped>\n",
       "    .dataframe tbody tr th:only-of-type {\n",
       "        vertical-align: middle;\n",
       "    }\n",
       "\n",
       "    .dataframe tbody tr th {\n",
       "        vertical-align: top;\n",
       "    }\n",
       "\n",
       "    .dataframe thead th {\n",
       "        text-align: right;\n",
       "    }\n",
       "</style>\n",
       "<table border=\"1\" class=\"dataframe\">\n",
       "  <thead>\n",
       "    <tr style=\"text-align: right;\">\n",
       "      <th></th>\n",
       "      <th>Date</th>\n",
       "      <th>EndingBalance</th>\n",
       "      <th>StartingBalance</th>\n",
       "      <th>Profit_Loss</th>\n",
       "      <th>Profit_Loss_Label</th>\n",
       "    </tr>\n",
       "  </thead>\n",
       "  <tbody>\n",
       "    <tr>\n",
       "      <td>1</td>\n",
       "      <td>2020-03-11</td>\n",
       "      <td>10017.75</td>\n",
       "      <td>10035.75</td>\n",
       "      <td>-18.00</td>\n",
       "      <td>Loss</td>\n",
       "    </tr>\n",
       "    <tr>\n",
       "      <td>2</td>\n",
       "      <td>2020-03-12</td>\n",
       "      <td>9950.52</td>\n",
       "      <td>10017.75</td>\n",
       "      <td>-67.23</td>\n",
       "      <td>Loss</td>\n",
       "    </tr>\n",
       "    <tr>\n",
       "      <td>6</td>\n",
       "      <td>2020-03-18</td>\n",
       "      <td>9950.27</td>\n",
       "      <td>9960.27</td>\n",
       "      <td>-10.00</td>\n",
       "      <td>Loss</td>\n",
       "    </tr>\n",
       "    <tr>\n",
       "      <td>8</td>\n",
       "      <td>2020-03-20</td>\n",
       "      <td>9959.77</td>\n",
       "      <td>9960.02</td>\n",
       "      <td>-0.25</td>\n",
       "      <td>Loss</td>\n",
       "    </tr>\n",
       "    <tr>\n",
       "      <td>11</td>\n",
       "      <td>2020-03-25</td>\n",
       "      <td>9988.26</td>\n",
       "      <td>9991.52</td>\n",
       "      <td>-3.26</td>\n",
       "      <td>Loss</td>\n",
       "    </tr>\n",
       "    <tr>\n",
       "      <td>14</td>\n",
       "      <td>2020-03-30</td>\n",
       "      <td>10037.26</td>\n",
       "      <td>10076.01</td>\n",
       "      <td>-38.75</td>\n",
       "      <td>Loss</td>\n",
       "    </tr>\n",
       "    <tr>\n",
       "      <td>17</td>\n",
       "      <td>2020-04-02</td>\n",
       "      <td>9995.26</td>\n",
       "      <td>10056.76</td>\n",
       "      <td>-61.50</td>\n",
       "      <td>Loss</td>\n",
       "    </tr>\n",
       "    <tr>\n",
       "      <td>18</td>\n",
       "      <td>2020-04-03</td>\n",
       "      <td>9923.26</td>\n",
       "      <td>9995.26</td>\n",
       "      <td>-72.00</td>\n",
       "      <td>Loss</td>\n",
       "    </tr>\n",
       "  </tbody>\n",
       "</table>\n",
       "</div>"
      ],
      "text/plain": [
       "          Date  EndingBalance  StartingBalance  Profit_Loss Profit_Loss_Label\n",
       "1   2020-03-11       10017.75         10035.75       -18.00              Loss\n",
       "2   2020-03-12        9950.52         10017.75       -67.23              Loss\n",
       "6   2020-03-18        9950.27          9960.27       -10.00              Loss\n",
       "8   2020-03-20        9959.77          9960.02        -0.25              Loss\n",
       "11  2020-03-25        9988.26          9991.52        -3.26              Loss\n",
       "14  2020-03-30       10037.26         10076.01       -38.75              Loss\n",
       "17  2020-04-02        9995.26         10056.76       -61.50              Loss\n",
       "18  2020-04-03        9923.26          9995.26       -72.00              Loss"
      ]
     },
     "execution_count": 13,
     "metadata": {},
     "output_type": "execute_result"
    }
   ],
   "source": [
    "ending_balance[ending_balance['Profit_Loss']<0]"
   ]
  },
  {
   "cell_type": "markdown",
   "metadata": {},
   "source": [
    "Looking at the losing days further, we indeed see that only four days made up the overwhelming amount of lossesSo there is a chance that in the future, some common factor could be found amongst those days to help the bot perform better\n",
    "\n",
    "Traders typically seem to love volatility as they can play either side of the market and profit. Thus, let's next check if the price range of the stock on a particular day and standard deviation affected profit or losses"
   ]
  },
  {
   "cell_type": "code",
   "execution_count": 14,
   "metadata": {},
   "outputs": [],
   "source": [
    "stock_data = pd.read_csv('StockData30Days.csv')\n",
    "#Calculate stock's max range and standard deviation for each day and append to ending balance dataframe\n",
    "ending_balance['MaxPriceRange'] = pd.Series()\n",
    "ending_balance['StandardDeviation'] = pd.Series()\n",
    "\n",
    "for date in stock_data['DateOnly'].unique():\n",
    "    \n",
    "    #Obtain max range and standar deviation by slicing stock dataframe by dates\n",
    "    one_date_data = stock_data.loc[stock_data['DateOnly'] == date,:] \n",
    "    max_range = one_date_data['Close'].max() - one_date_data['Close'].min()\n",
    "    std_dev = one_date_data['Close'].std()\n",
    "    \n",
    "    #Append max range and standard deviation to Ending Balance Dataframe\n",
    "    ending_balance.loc[ending_balance['Date'] == date,'MaxPriceRange'] = max_range\n",
    "    ending_balance.loc[ending_balance['Date'] == date,'StandardDeviation'] = std_dev"
   ]
  },
  {
   "cell_type": "code",
   "execution_count": 15,
   "metadata": {},
   "outputs": [
    {
     "data": {
      "text/html": [
       "<div>\n",
       "<style scoped>\n",
       "    .dataframe tbody tr th:only-of-type {\n",
       "        vertical-align: middle;\n",
       "    }\n",
       "\n",
       "    .dataframe tbody tr th {\n",
       "        vertical-align: top;\n",
       "    }\n",
       "\n",
       "    .dataframe thead th {\n",
       "        text-align: right;\n",
       "    }\n",
       "</style>\n",
       "<table border=\"1\" class=\"dataframe\">\n",
       "  <thead>\n",
       "    <tr style=\"text-align: right;\">\n",
       "      <th></th>\n",
       "      <th>Date</th>\n",
       "      <th>EndingBalance</th>\n",
       "      <th>StartingBalance</th>\n",
       "      <th>Profit_Loss</th>\n",
       "      <th>Profit_Loss_Label</th>\n",
       "      <th>MaxPriceRange</th>\n",
       "      <th>StandardDeviation</th>\n",
       "    </tr>\n",
       "  </thead>\n",
       "  <tbody>\n",
       "    <tr>\n",
       "      <td>0</td>\n",
       "      <td>2020-03-10</td>\n",
       "      <td>10035.75</td>\n",
       "      <td>10000.00</td>\n",
       "      <td>35.75</td>\n",
       "      <td>Profit</td>\n",
       "      <td>16.119995</td>\n",
       "      <td>2.840412</td>\n",
       "    </tr>\n",
       "    <tr>\n",
       "      <td>1</td>\n",
       "      <td>2020-03-11</td>\n",
       "      <td>10017.75</td>\n",
       "      <td>10035.75</td>\n",
       "      <td>-18.00</td>\n",
       "      <td>Loss</td>\n",
       "      <td>8.620026</td>\n",
       "      <td>1.451985</td>\n",
       "    </tr>\n",
       "    <tr>\n",
       "      <td>2</td>\n",
       "      <td>2020-03-12</td>\n",
       "      <td>9950.52</td>\n",
       "      <td>10017.75</td>\n",
       "      <td>-67.23</td>\n",
       "      <td>Loss</td>\n",
       "      <td>21.898102</td>\n",
       "      <td>3.426171</td>\n",
       "    </tr>\n",
       "    <tr>\n",
       "      <td>3</td>\n",
       "      <td>2020-03-13</td>\n",
       "      <td>9950.52</td>\n",
       "      <td>9950.52</td>\n",
       "      <td>0.00</td>\n",
       "      <td>Profit</td>\n",
       "      <td>24.955002</td>\n",
       "      <td>3.100964</td>\n",
       "    </tr>\n",
       "    <tr>\n",
       "      <td>4</td>\n",
       "      <td>2020-03-16</td>\n",
       "      <td>9960.27</td>\n",
       "      <td>9950.52</td>\n",
       "      <td>9.75</td>\n",
       "      <td>Profit</td>\n",
       "      <td>18.625000</td>\n",
       "      <td>3.238043</td>\n",
       "    </tr>\n",
       "  </tbody>\n",
       "</table>\n",
       "</div>"
      ],
      "text/plain": [
       "         Date  EndingBalance  StartingBalance  Profit_Loss Profit_Loss_Label  \\\n",
       "0  2020-03-10       10035.75         10000.00        35.75            Profit   \n",
       "1  2020-03-11       10017.75         10035.75       -18.00              Loss   \n",
       "2  2020-03-12        9950.52         10017.75       -67.23              Loss   \n",
       "3  2020-03-13        9950.52          9950.52         0.00            Profit   \n",
       "4  2020-03-16        9960.27          9950.52         9.75            Profit   \n",
       "\n",
       "   MaxPriceRange  StandardDeviation  \n",
       "0      16.119995           2.840412  \n",
       "1       8.620026           1.451985  \n",
       "2      21.898102           3.426171  \n",
       "3      24.955002           3.100964  \n",
       "4      18.625000           3.238043  "
      ]
     },
     "execution_count": 15,
     "metadata": {},
     "output_type": "execute_result"
    }
   ],
   "source": [
    "ending_balance.head()"
   ]
  },
  {
   "cell_type": "code",
   "execution_count": 16,
   "metadata": {},
   "outputs": [
    {
     "data": {
      "text/plain": [
       "Text(0.5, 1.0, 'Maximum Price Range vs. Profit/Loss in a Day')"
      ]
     },
     "execution_count": 16,
     "metadata": {},
     "output_type": "execute_result"
    },
    {
     "data": {
      "image/png": "[encoded data removed]",
      "text/plain": [
       "<Figure size 432x288 with 1 Axes>"
      ]
     },
     "metadata": {
      "needs_background": "light"
     },
     "output_type": "display_data"
    }
   ],
   "source": [
    "plt.scatter(data = ending_balance, x = 'MaxPriceRange', y = 'Profit_Loss')\n",
    "plt.xlabel('Maximum Price Range in a Day')\n",
    "plt.ylabel('Profit/Loss')\n",
    "plt.title('Maximum Price Range vs. Profit/Loss in a Day')"
   ]
  },
  {
   "cell_type": "code",
   "execution_count": 17,
   "metadata": {},
   "outputs": [
    {
     "data": {
      "text/plain": [
       "Text(0.5, 1.0, 'Standard Deviation in Price vs. Profit/Loss in a Day')"
      ]
     },
     "execution_count": 17,
     "metadata": {},
     "output_type": "execute_result"
    },
    {
     "data": {
      "image/png": "[encoded data removed]",
      "text/plain": [
       "<Figure size 432x288 with 1 Axes>"
      ]
     },
     "metadata": {
      "needs_background": "light"
     },
     "output_type": "display_data"
    }
   ],
   "source": [
    "plt.scatter(data = ending_balance, x = 'StandardDeviation', y = 'Profit_Loss')\n",
    "plt.xlabel('Standard Deviation in Price in a Day')\n",
    "plt.ylabel('Profit/Loss')\n",
    "plt.title('Standard Deviation in Price vs. Profit/Loss in a Day')"
   ]
  },
  {
   "cell_type": "markdown",
   "metadata": {},
   "source": [
    "From the scatter plot, it does not seem that there is any relationship between profit to either maximum range or standard deviation"
   ]
  },
  {
   "cell_type": "code",
   "execution_count": 18,
   "metadata": {},
   "outputs": [
    {
     "data": {
      "text/html": [
       "<div>\n",
       "<style scoped>\n",
       "    .dataframe tbody tr th:only-of-type {\n",
       "        vertical-align: middle;\n",
       "    }\n",
       "\n",
       "    .dataframe tbody tr th {\n",
       "        vertical-align: top;\n",
       "    }\n",
       "\n",
       "    .dataframe thead th {\n",
       "        text-align: right;\n",
       "    }\n",
       "</style>\n",
       "<table border=\"1\" class=\"dataframe\">\n",
       "  <thead>\n",
       "    <tr style=\"text-align: right;\">\n",
       "      <th></th>\n",
       "      <th>Profit_Loss</th>\n",
       "      <th>MaxPriceRange</th>\n",
       "      <th>StandardDeviation</th>\n",
       "    </tr>\n",
       "  </thead>\n",
       "  <tbody>\n",
       "    <tr>\n",
       "      <td>Profit_Loss</td>\n",
       "      <td>1.000000</td>\n",
       "      <td>0.092819</td>\n",
       "      <td>0.140759</td>\n",
       "    </tr>\n",
       "    <tr>\n",
       "      <td>MaxPriceRange</td>\n",
       "      <td>0.092819</td>\n",
       "      <td>1.000000</td>\n",
       "      <td>0.873758</td>\n",
       "    </tr>\n",
       "    <tr>\n",
       "      <td>StandardDeviation</td>\n",
       "      <td>0.140759</td>\n",
       "      <td>0.873758</td>\n",
       "      <td>1.000000</td>\n",
       "    </tr>\n",
       "  </tbody>\n",
       "</table>\n",
       "</div>"
      ],
      "text/plain": [
       "                   Profit_Loss  MaxPriceRange  StandardDeviation\n",
       "Profit_Loss           1.000000       0.092819           0.140759\n",
       "MaxPriceRange         0.092819       1.000000           0.873758\n",
       "StandardDeviation     0.140759       0.873758           1.000000"
      ]
     },
     "execution_count": 18,
     "metadata": {},
     "output_type": "execute_result"
    }
   ],
   "source": [
    "ending_balance[['Profit_Loss', 'MaxPriceRange', 'StandardDeviation']].corr()"
   ]
  },
  {
   "cell_type": "markdown",
   "metadata": {},
   "source": [
    "The correlation matrix further proves the lack of any strong relationship between Profit_Loss to either of MaxPriceRange and StandardDeviation; Profit_Loss and MaxPriceRange have a correlation of 0.092819, Profit_Loss and StandardDeviation have a correlation of 0.140759. This is not a surprise considering the trade algorithms in their core don't uitlize volatility at all.\n",
    "\n",
    "It makes sense that MaxPriceRange and StandardDeviation have a strong correlation as a higher max range would typically correspond to a higher standard deviation."
   ]
  },
  {
   "cell_type": "markdown",
   "metadata": {},
   "source": [
    "# 6.2 Analysis of All Executed Trades"
   ]
  },
  {
   "cell_type": "code",
   "execution_count": 19,
   "metadata": {},
   "outputs": [
    {
     "data": {
      "text/html": [
       "<div>\n",
       "<style scoped>\n",
       "    .dataframe tbody tr th:only-of-type {\n",
       "        vertical-align: middle;\n",
       "    }\n",
       "\n",
       "    .dataframe tbody tr th {\n",
       "        vertical-align: top;\n",
       "    }\n",
       "\n",
       "    .dataframe thead th {\n",
       "        text-align: right;\n",
       "    }\n",
       "</style>\n",
       "<table border=\"1\" class=\"dataframe\">\n",
       "  <thead>\n",
       "    <tr style=\"text-align: right;\">\n",
       "      <th></th>\n",
       "      <th>Unnamed: 0</th>\n",
       "      <th>CurrentDay</th>\n",
       "      <th>TradeType</th>\n",
       "      <th>TradeStatus</th>\n",
       "      <th>TradeId</th>\n",
       "      <th>BuyPrice</th>\n",
       "      <th>LimitSellPrice</th>\n",
       "      <th>StopLossPrice</th>\n",
       "      <th>NumShares</th>\n",
       "      <th>Profit</th>\n",
       "      <th>IsTradeComplete</th>\n",
       "      <th>SoldTime</th>\n",
       "    </tr>\n",
       "  </thead>\n",
       "  <tbody>\n",
       "    <tr>\n",
       "      <td>0</td>\n",
       "      <td>107</td>\n",
       "      <td>2020-03-10</td>\n",
       "      <td>BaseTrade</td>\n",
       "      <td>Short</td>\n",
       "      <td>77</td>\n",
       "      <td>274.580109</td>\n",
       "      <td>274.330109</td>\n",
       "      <td>274.830109</td>\n",
       "      <td>36</td>\n",
       "      <td>9.00</td>\n",
       "      <td>Yes</td>\n",
       "      <td>11:18:00</td>\n",
       "    </tr>\n",
       "    <tr>\n",
       "      <td>1</td>\n",
       "      <td>226</td>\n",
       "      <td>2020-03-10</td>\n",
       "      <td>BaseTrade</td>\n",
       "      <td>Long</td>\n",
       "      <td>196</td>\n",
       "      <td>277.831696</td>\n",
       "      <td>278.081696</td>\n",
       "      <td>277.581696</td>\n",
       "      <td>36</td>\n",
       "      <td>9.00</td>\n",
       "      <td>Yes</td>\n",
       "      <td>13:18:00</td>\n",
       "    </tr>\n",
       "    <tr>\n",
       "      <td>2</td>\n",
       "      <td>247</td>\n",
       "      <td>2020-03-10</td>\n",
       "      <td>BaseTrade</td>\n",
       "      <td>Short</td>\n",
       "      <td>217</td>\n",
       "      <td>275.734802</td>\n",
       "      <td>275.484802</td>\n",
       "      <td>275.984802</td>\n",
       "      <td>36</td>\n",
       "      <td>9.00</td>\n",
       "      <td>Yes</td>\n",
       "      <td>13:40:00</td>\n",
       "    </tr>\n",
       "    <tr>\n",
       "      <td>3</td>\n",
       "      <td>348</td>\n",
       "      <td>2020-03-10</td>\n",
       "      <td>BaseTrade</td>\n",
       "      <td>Long</td>\n",
       "      <td>318</td>\n",
       "      <td>280.589996</td>\n",
       "      <td>280.839996</td>\n",
       "      <td>280.339996</td>\n",
       "      <td>35</td>\n",
       "      <td>8.75</td>\n",
       "      <td>Yes</td>\n",
       "      <td>15:20:00</td>\n",
       "    </tr>\n",
       "    <tr>\n",
       "      <td>4</td>\n",
       "      <td>91</td>\n",
       "      <td>2020-03-11</td>\n",
       "      <td>BaseTrade</td>\n",
       "      <td>Long</td>\n",
       "      <td>61</td>\n",
       "      <td>276.980011</td>\n",
       "      <td>277.230011</td>\n",
       "      <td>276.730011</td>\n",
       "      <td>36</td>\n",
       "      <td>-9.00</td>\n",
       "      <td>Yes</td>\n",
       "      <td>11:03:00</td>\n",
       "    </tr>\n",
       "  </tbody>\n",
       "</table>\n",
       "</div>"
      ],
      "text/plain": [
       "   Unnamed: 0  CurrentDay  TradeType TradeStatus  TradeId    BuyPrice  \\\n",
       "0         107  2020-03-10  BaseTrade       Short       77  274.580109   \n",
       "1         226  2020-03-10  BaseTrade        Long      196  277.831696   \n",
       "2         247  2020-03-10  BaseTrade       Short      217  275.734802   \n",
       "3         348  2020-03-10  BaseTrade        Long      318  280.589996   \n",
       "4          91  2020-03-11  BaseTrade        Long       61  276.980011   \n",
       "\n",
       "   LimitSellPrice  StopLossPrice  NumShares  Profit IsTradeComplete  SoldTime  \n",
       "0      274.330109     274.830109         36    9.00             Yes  11:18:00  \n",
       "1      278.081696     277.581696         36    9.00             Yes  13:18:00  \n",
       "2      275.484802     275.984802         36    9.00             Yes  13:40:00  \n",
       "3      280.839996     280.339996         35    8.75             Yes  15:20:00  \n",
       "4      277.230011     276.730011         36   -9.00             Yes  11:03:00  "
      ]
     },
     "execution_count": 19,
     "metadata": {},
     "output_type": "execute_result"
    }
   ],
   "source": [
    "all_trade_summary = pd.read_csv('AllTradeSummary30Days.csv')\n",
    "all_trade_summary.head()"
   ]
  },
  {
   "cell_type": "code",
   "execution_count": 20,
   "metadata": {},
   "outputs": [],
   "source": [
    "#Minor Cleanup\n",
    "#Unnamed:0 is the buy time index\n",
    "new_column_titles = list(all_trade_summary.columns)\n",
    "new_column_titles[0] = 'BuyTimeMinute'\n",
    "all_trade_summary.columns = new_column_titles"
   ]
  },
  {
   "cell_type": "code",
   "execution_count": 21,
   "metadata": {},
   "outputs": [
    {
     "data": {
      "text/html": [
       "<div>\n",
       "<style scoped>\n",
       "    .dataframe tbody tr th:only-of-type {\n",
       "        vertical-align: middle;\n",
       "    }\n",
       "\n",
       "    .dataframe tbody tr th {\n",
       "        vertical-align: top;\n",
       "    }\n",
       "\n",
       "    .dataframe thead th {\n",
       "        text-align: right;\n",
       "    }\n",
       "</style>\n",
       "<table border=\"1\" class=\"dataframe\">\n",
       "  <thead>\n",
       "    <tr style=\"text-align: right;\">\n",
       "      <th></th>\n",
       "      <th>BuyTimeMinute</th>\n",
       "      <th>CurrentDay</th>\n",
       "      <th>TradeType</th>\n",
       "      <th>TradeStatus</th>\n",
       "      <th>TradeId</th>\n",
       "      <th>BuyPrice</th>\n",
       "      <th>LimitSellPrice</th>\n",
       "      <th>StopLossPrice</th>\n",
       "      <th>NumShares</th>\n",
       "      <th>Profit</th>\n",
       "      <th>IsTradeComplete</th>\n",
       "      <th>SoldTime</th>\n",
       "    </tr>\n",
       "  </thead>\n",
       "  <tbody>\n",
       "    <tr>\n",
       "      <td>0</td>\n",
       "      <td>107</td>\n",
       "      <td>2020-03-10</td>\n",
       "      <td>BaseTrade</td>\n",
       "      <td>Short</td>\n",
       "      <td>77</td>\n",
       "      <td>274.580109</td>\n",
       "      <td>274.330109</td>\n",
       "      <td>274.830109</td>\n",
       "      <td>36</td>\n",
       "      <td>9.00</td>\n",
       "      <td>Yes</td>\n",
       "      <td>11:18:00</td>\n",
       "    </tr>\n",
       "    <tr>\n",
       "      <td>1</td>\n",
       "      <td>226</td>\n",
       "      <td>2020-03-10</td>\n",
       "      <td>BaseTrade</td>\n",
       "      <td>Long</td>\n",
       "      <td>196</td>\n",
       "      <td>277.831696</td>\n",
       "      <td>278.081696</td>\n",
       "      <td>277.581696</td>\n",
       "      <td>36</td>\n",
       "      <td>9.00</td>\n",
       "      <td>Yes</td>\n",
       "      <td>13:18:00</td>\n",
       "    </tr>\n",
       "    <tr>\n",
       "      <td>2</td>\n",
       "      <td>247</td>\n",
       "      <td>2020-03-10</td>\n",
       "      <td>BaseTrade</td>\n",
       "      <td>Short</td>\n",
       "      <td>217</td>\n",
       "      <td>275.734802</td>\n",
       "      <td>275.484802</td>\n",
       "      <td>275.984802</td>\n",
       "      <td>36</td>\n",
       "      <td>9.00</td>\n",
       "      <td>Yes</td>\n",
       "      <td>13:40:00</td>\n",
       "    </tr>\n",
       "    <tr>\n",
       "      <td>3</td>\n",
       "      <td>348</td>\n",
       "      <td>2020-03-10</td>\n",
       "      <td>BaseTrade</td>\n",
       "      <td>Long</td>\n",
       "      <td>318</td>\n",
       "      <td>280.589996</td>\n",
       "      <td>280.839996</td>\n",
       "      <td>280.339996</td>\n",
       "      <td>35</td>\n",
       "      <td>8.75</td>\n",
       "      <td>Yes</td>\n",
       "      <td>15:20:00</td>\n",
       "    </tr>\n",
       "    <tr>\n",
       "      <td>4</td>\n",
       "      <td>91</td>\n",
       "      <td>2020-03-11</td>\n",
       "      <td>BaseTrade</td>\n",
       "      <td>Long</td>\n",
       "      <td>61</td>\n",
       "      <td>276.980011</td>\n",
       "      <td>277.230011</td>\n",
       "      <td>276.730011</td>\n",
       "      <td>36</td>\n",
       "      <td>-9.00</td>\n",
       "      <td>Yes</td>\n",
       "      <td>11:03:00</td>\n",
       "    </tr>\n",
       "  </tbody>\n",
       "</table>\n",
       "</div>"
      ],
      "text/plain": [
       "   BuyTimeMinute  CurrentDay  TradeType TradeStatus  TradeId    BuyPrice  \\\n",
       "0            107  2020-03-10  BaseTrade       Short       77  274.580109   \n",
       "1            226  2020-03-10  BaseTrade        Long      196  277.831696   \n",
       "2            247  2020-03-10  BaseTrade       Short      217  275.734802   \n",
       "3            348  2020-03-10  BaseTrade        Long      318  280.589996   \n",
       "4             91  2020-03-11  BaseTrade        Long       61  276.980011   \n",
       "\n",
       "   LimitSellPrice  StopLossPrice  NumShares  Profit IsTradeComplete  SoldTime  \n",
       "0      274.330109     274.830109         36    9.00             Yes  11:18:00  \n",
       "1      278.081696     277.581696         36    9.00             Yes  13:18:00  \n",
       "2      275.484802     275.984802         36    9.00             Yes  13:40:00  \n",
       "3      280.839996     280.339996         35    8.75             Yes  15:20:00  \n",
       "4      277.230011     276.730011         36   -9.00             Yes  11:03:00  "
      ]
     },
     "execution_count": 21,
     "metadata": {},
     "output_type": "execute_result"
    }
   ],
   "source": [
    "all_trade_summary.head()"
   ]
  },
  {
   "cell_type": "markdown",
   "metadata": {},
   "source": [
    "Explanation of Columns\n",
    "\n",
    "- **BuyTimeMinute**: BuyTimeMinute indicates the Buy Time by calculating the difference between the buy time and starting time of the day (9:30 AM) in minutes.  For example, 9:55 AM would have a BuyTimeMinute of 25. Encoding trade time this way helped to keep track of trade and could help in using machine learning algorithms in future versions of this bot.\n",
    "\n",
    "- **CurrentDay**: The day when the trade was executed\n",
    "\n",
    "- **TradeType**: Indicates the type of trade. The choices are either the base trade or far from moving average trade\n",
    "\n",
    "- **TradeStatus**: Indicates whether we went long on a stock or shorted the stock for a particular trade\n",
    "\n",
    "- **BuyPrice**: The price the shares were bought for shorting or going long\n",
    "\n",
    "- **LimitSellPrice**: The price at which the trading position was closed at if the trade was profitable\n",
    "\n",
    "- **StopLossPrice**: The price at which the trading position was closed at if the trade was unprofitable\n",
    "\n",
    "- **NumShares**: The number of shares for the specific trading position\n",
    "\n",
    "- **IsTradeComplete**: This column was used to keep track of active trade. It only contains \"Yes\" as all the trades were completed as per the constraints set on the bot\n",
    "\n",
    "- **SoldTime**: The time when the trading position was closed\n",
    "\n",
    "- **Profit**: Profit for the current trade"
   ]
  },
  {
   "cell_type": "markdown",
   "metadata": {},
   "source": [
    "We will first look at winning and losing trades on their own\n",
    "\n",
    "We will then look at winning and losing trade by TradeType, then by TradeStatus\n",
    "\n",
    "We will finally look at whether the buy time for a trade affects the profitability of a trade or not"
   ]
  },
  {
   "cell_type": "code",
   "execution_count": 22,
   "metadata": {},
   "outputs": [
    {
     "name": "stdout",
     "output_type": "stream",
     "text": [
      "Total number of trades made are: 186\n",
      "Number of winning trades are: 93\n",
      "Number of losing trades are: 93\n"
     ]
    }
   ],
   "source": [
    "num_winning_trades = (all_trade_summary['Profit']>0).sum()\n",
    "num_losing_trades = (all_trade_summary['Profit']<0).sum()\n",
    "\n",
    "print('Total number of trades made are: {}'.format(all_trade_summary.shape[0]))\n",
    "print('Number of winning trades are: {}'.format(num_winning_trades))\n",
    "print('Number of losing trades are: {}'.format(num_losing_trades))"
   ]
  },
  {
   "cell_type": "code",
   "execution_count": 23,
   "metadata": {},
   "outputs": [],
   "source": [
    "#Creating labels for box and whisker plot\n",
    "all_trade_summary['Profit_Loss_Label'] = pd.Series()\n",
    "all_trade_summary.loc [all_trade_summary['Profit']>0, 'Profit_Loss_Label'] = 'Profit'\n",
    "all_trade_summary.loc [all_trade_summary['Profit']<0, 'Profit_Loss_Label'] = 'Loss'"
   ]
  },
  {
   "cell_type": "code",
   "execution_count": 24,
   "metadata": {},
   "outputs": [
    {
     "data": {
      "text/html": [
       "<div>\n",
       "<style scoped>\n",
       "    .dataframe tbody tr th:only-of-type {\n",
       "        vertical-align: middle;\n",
       "    }\n",
       "\n",
       "    .dataframe tbody tr th {\n",
       "        vertical-align: top;\n",
       "    }\n",
       "\n",
       "    .dataframe thead th {\n",
       "        text-align: right;\n",
       "    }\n",
       "</style>\n",
       "<table border=\"1\" class=\"dataframe\">\n",
       "  <thead>\n",
       "    <tr style=\"text-align: right;\">\n",
       "      <th></th>\n",
       "      <th>BuyTimeMinute</th>\n",
       "      <th>CurrentDay</th>\n",
       "      <th>TradeType</th>\n",
       "      <th>TradeStatus</th>\n",
       "      <th>TradeId</th>\n",
       "      <th>BuyPrice</th>\n",
       "      <th>LimitSellPrice</th>\n",
       "      <th>StopLossPrice</th>\n",
       "      <th>NumShares</th>\n",
       "      <th>Profit</th>\n",
       "      <th>IsTradeComplete</th>\n",
       "      <th>SoldTime</th>\n",
       "      <th>Profit_Loss_Label</th>\n",
       "    </tr>\n",
       "  </thead>\n",
       "  <tbody>\n",
       "    <tr>\n",
       "      <td>0</td>\n",
       "      <td>107</td>\n",
       "      <td>2020-03-10</td>\n",
       "      <td>BaseTrade</td>\n",
       "      <td>Short</td>\n",
       "      <td>77</td>\n",
       "      <td>274.580109</td>\n",
       "      <td>274.330109</td>\n",
       "      <td>274.830109</td>\n",
       "      <td>36</td>\n",
       "      <td>9.00</td>\n",
       "      <td>Yes</td>\n",
       "      <td>11:18:00</td>\n",
       "      <td>Profit</td>\n",
       "    </tr>\n",
       "    <tr>\n",
       "      <td>1</td>\n",
       "      <td>226</td>\n",
       "      <td>2020-03-10</td>\n",
       "      <td>BaseTrade</td>\n",
       "      <td>Long</td>\n",
       "      <td>196</td>\n",
       "      <td>277.831696</td>\n",
       "      <td>278.081696</td>\n",
       "      <td>277.581696</td>\n",
       "      <td>36</td>\n",
       "      <td>9.00</td>\n",
       "      <td>Yes</td>\n",
       "      <td>13:18:00</td>\n",
       "      <td>Profit</td>\n",
       "    </tr>\n",
       "    <tr>\n",
       "      <td>2</td>\n",
       "      <td>247</td>\n",
       "      <td>2020-03-10</td>\n",
       "      <td>BaseTrade</td>\n",
       "      <td>Short</td>\n",
       "      <td>217</td>\n",
       "      <td>275.734802</td>\n",
       "      <td>275.484802</td>\n",
       "      <td>275.984802</td>\n",
       "      <td>36</td>\n",
       "      <td>9.00</td>\n",
       "      <td>Yes</td>\n",
       "      <td>13:40:00</td>\n",
       "      <td>Profit</td>\n",
       "    </tr>\n",
       "    <tr>\n",
       "      <td>3</td>\n",
       "      <td>348</td>\n",
       "      <td>2020-03-10</td>\n",
       "      <td>BaseTrade</td>\n",
       "      <td>Long</td>\n",
       "      <td>318</td>\n",
       "      <td>280.589996</td>\n",
       "      <td>280.839996</td>\n",
       "      <td>280.339996</td>\n",
       "      <td>35</td>\n",
       "      <td>8.75</td>\n",
       "      <td>Yes</td>\n",
       "      <td>15:20:00</td>\n",
       "      <td>Profit</td>\n",
       "    </tr>\n",
       "    <tr>\n",
       "      <td>4</td>\n",
       "      <td>91</td>\n",
       "      <td>2020-03-11</td>\n",
       "      <td>BaseTrade</td>\n",
       "      <td>Long</td>\n",
       "      <td>61</td>\n",
       "      <td>276.980011</td>\n",
       "      <td>277.230011</td>\n",
       "      <td>276.730011</td>\n",
       "      <td>36</td>\n",
       "      <td>-9.00</td>\n",
       "      <td>Yes</td>\n",
       "      <td>11:03:00</td>\n",
       "      <td>Loss</td>\n",
       "    </tr>\n",
       "  </tbody>\n",
       "</table>\n",
       "</div>"
      ],
      "text/plain": [
       "   BuyTimeMinute  CurrentDay  TradeType TradeStatus  TradeId    BuyPrice  \\\n",
       "0            107  2020-03-10  BaseTrade       Short       77  274.580109   \n",
       "1            226  2020-03-10  BaseTrade        Long      196  277.831696   \n",
       "2            247  2020-03-10  BaseTrade       Short      217  275.734802   \n",
       "3            348  2020-03-10  BaseTrade        Long      318  280.589996   \n",
       "4             91  2020-03-11  BaseTrade        Long       61  276.980011   \n",
       "\n",
       "   LimitSellPrice  StopLossPrice  NumShares  Profit IsTradeComplete  SoldTime  \\\n",
       "0      274.330109     274.830109         36    9.00             Yes  11:18:00   \n",
       "1      278.081696     277.581696         36    9.00             Yes  13:18:00   \n",
       "2      275.484802     275.984802         36    9.00             Yes  13:40:00   \n",
       "3      280.839996     280.339996         35    8.75             Yes  15:20:00   \n",
       "4      277.230011     276.730011         36   -9.00             Yes  11:03:00   \n",
       "\n",
       "  Profit_Loss_Label  \n",
       "0            Profit  \n",
       "1            Profit  \n",
       "2            Profit  \n",
       "3            Profit  \n",
       "4              Loss  "
      ]
     },
     "execution_count": 24,
     "metadata": {},
     "output_type": "execute_result"
    }
   ],
   "source": [
    "all_trade_summary.head()"
   ]
  },
  {
   "cell_type": "code",
   "execution_count": 25,
   "metadata": {},
   "outputs": [
    {
     "data": {
      "text/plain": [
       "Text(0.5, 1.0, 'Distribution of Profits and Losses by Trade')"
      ]
     },
     "execution_count": 25,
     "metadata": {},
     "output_type": "execute_result"
    },
    {
     "data": {
      "image/png": "[encoded data removed]",
      "text/plain": [
       "<Figure size 432x288 with 1 Axes>"
      ]
     },
     "metadata": {
      "needs_background": "light"
     },
     "output_type": "display_data"
    }
   ],
   "source": [
    "sb.boxplot(x = 'Profit_Loss_Label', y = 'Profit', data = all_trade_summary)\n",
    "plt.xlabel('Trade Classification')\n",
    "plt.ylabel('Profit/Loss')\n",
    "plt.title('Distribution of Profits and Losses by Trade')"
   ]
  },
  {
   "cell_type": "code",
   "execution_count": 26,
   "metadata": {},
   "outputs": [
    {
     "data": {
      "text/plain": [
       "count    93.000000\n",
       "mean      9.938172\n",
       "std       1.034497\n",
       "min       8.750000\n",
       "25%       9.750000\n",
       "50%       9.750000\n",
       "75%      10.250000\n",
       "max      19.000000\n",
       "Name: Profit, dtype: float64"
      ]
     },
     "execution_count": 26,
     "metadata": {},
     "output_type": "execute_result"
    }
   ],
   "source": [
    "all_trade_summary.loc [all_trade_summary['Profit']>0, 'Profit'].describe()"
   ]
  },
  {
   "cell_type": "code",
   "execution_count": 27,
   "metadata": {},
   "outputs": [
    {
     "data": {
      "text/plain": [
       "count    93.000000\n",
       "mean    -10.763350\n",
       "std       4.915503\n",
       "min     -43.290497\n",
       "25%     -10.250000\n",
       "50%     -10.000000\n",
       "75%      -9.750000\n",
       "max      -9.000000\n",
       "Name: Profit, dtype: float64"
      ]
     },
     "execution_count": 27,
     "metadata": {},
     "output_type": "execute_result"
    }
   ],
   "source": [
    "all_trade_summary.loc [all_trade_summary['Profit']<0, 'Profit'].describe()"
   ]
  },
  {
   "cell_type": "code",
   "execution_count": 28,
   "metadata": {},
   "outputs": [
    {
     "data": {
      "text/plain": [
       "BaseTrade                    182\n",
       "FarFromMovingAverageTrade      4\n",
       "Name: TradeType, dtype: int64"
      ]
     },
     "execution_count": 28,
     "metadata": {},
     "output_type": "execute_result"
    }
   ],
   "source": [
    "all_trade_summary['TradeType'].value_counts()"
   ]
  },
  {
   "cell_type": "markdown",
   "metadata": {},
   "source": [
    "It is not surprising that both winning and losing trade cluster around a similar area. As seen above, most of the trades were base trade, and in the implementation of the base trade algorithm, both stop loss and limit sell were set at $0.25 per share. The outliers for both losses and profit are likely to be from far from moving average trade"
   ]
  },
  {
   "cell_type": "code",
   "execution_count": 29,
   "metadata": {},
   "outputs": [
    {
     "data": {
      "text/html": [
       "<div>\n",
       "<style scoped>\n",
       "    .dataframe tbody tr th:only-of-type {\n",
       "        vertical-align: middle;\n",
       "    }\n",
       "\n",
       "    .dataframe tbody tr th {\n",
       "        vertical-align: top;\n",
       "    }\n",
       "\n",
       "    .dataframe thead th {\n",
       "        text-align: right;\n",
       "    }\n",
       "</style>\n",
       "<table border=\"1\" class=\"dataframe\">\n",
       "  <thead>\n",
       "    <tr style=\"text-align: right;\">\n",
       "      <th></th>\n",
       "      <th>BuyTimeMinute</th>\n",
       "      <th>CurrentDay</th>\n",
       "      <th>TradeType</th>\n",
       "      <th>TradeStatus</th>\n",
       "      <th>TradeId</th>\n",
       "      <th>BuyPrice</th>\n",
       "      <th>LimitSellPrice</th>\n",
       "      <th>StopLossPrice</th>\n",
       "      <th>NumShares</th>\n",
       "      <th>Profit</th>\n",
       "      <th>IsTradeComplete</th>\n",
       "      <th>SoldTime</th>\n",
       "      <th>Profit_Loss_Label</th>\n",
       "    </tr>\n",
       "  </thead>\n",
       "  <tbody>\n",
       "    <tr>\n",
       "      <td>18</td>\n",
       "      <td>1</td>\n",
       "      <td>2020-03-12</td>\n",
       "      <td>FarFromMovingAverageTrade</td>\n",
       "      <td>Long</td>\n",
       "      <td>1</td>\n",
       "      <td>257.269989</td>\n",
       "      <td>257.769989</td>\n",
       "      <td>256.640015</td>\n",
       "      <td>38</td>\n",
       "      <td>-23.939026</td>\n",
       "      <td>Yes</td>\n",
       "      <td>09:33:00</td>\n",
       "      <td>Loss</td>\n",
       "    </tr>\n",
       "    <tr>\n",
       "      <td>19</td>\n",
       "      <td>200</td>\n",
       "      <td>2020-03-12</td>\n",
       "      <td>FarFromMovingAverageTrade</td>\n",
       "      <td>Short</td>\n",
       "      <td>200</td>\n",
       "      <td>267.309998</td>\n",
       "      <td>266.809998</td>\n",
       "      <td>268.480011</td>\n",
       "      <td>37</td>\n",
       "      <td>-43.290497</td>\n",
       "      <td>Yes</td>\n",
       "      <td>13:05:00</td>\n",
       "      <td>Loss</td>\n",
       "    </tr>\n",
       "    <tr>\n",
       "      <td>48</td>\n",
       "      <td>2</td>\n",
       "      <td>2020-03-25</td>\n",
       "      <td>FarFromMovingAverageTrade</td>\n",
       "      <td>Short</td>\n",
       "      <td>2</td>\n",
       "      <td>253.240005</td>\n",
       "      <td>252.740005</td>\n",
       "      <td>254.291595</td>\n",
       "      <td>39</td>\n",
       "      <td>-41.012009</td>\n",
       "      <td>Yes</td>\n",
       "      <td>09:33:00</td>\n",
       "      <td>Loss</td>\n",
       "    </tr>\n",
       "    <tr>\n",
       "      <td>49</td>\n",
       "      <td>10</td>\n",
       "      <td>2020-03-25</td>\n",
       "      <td>FarFromMovingAverageTrade</td>\n",
       "      <td>Short</td>\n",
       "      <td>10</td>\n",
       "      <td>257.019989</td>\n",
       "      <td>256.519989</td>\n",
       "      <td>257.829987</td>\n",
       "      <td>38</td>\n",
       "      <td>19.000000</td>\n",
       "      <td>Yes</td>\n",
       "      <td>09:41:00</td>\n",
       "      <td>Profit</td>\n",
       "    </tr>\n",
       "  </tbody>\n",
       "</table>\n",
       "</div>"
      ],
      "text/plain": [
       "    BuyTimeMinute  CurrentDay                  TradeType TradeStatus  TradeId  \\\n",
       "18              1  2020-03-12  FarFromMovingAverageTrade        Long        1   \n",
       "19            200  2020-03-12  FarFromMovingAverageTrade       Short      200   \n",
       "48              2  2020-03-25  FarFromMovingAverageTrade       Short        2   \n",
       "49             10  2020-03-25  FarFromMovingAverageTrade       Short       10   \n",
       "\n",
       "      BuyPrice  LimitSellPrice  StopLossPrice  NumShares     Profit  \\\n",
       "18  257.269989      257.769989     256.640015         38 -23.939026   \n",
       "19  267.309998      266.809998     268.480011         37 -43.290497   \n",
       "48  253.240005      252.740005     254.291595         39 -41.012009   \n",
       "49  257.019989      256.519989     257.829987         38  19.000000   \n",
       "\n",
       "   IsTradeComplete  SoldTime Profit_Loss_Label  \n",
       "18             Yes  09:33:00              Loss  \n",
       "19             Yes  13:05:00              Loss  \n",
       "48             Yes  09:33:00              Loss  \n",
       "49             Yes  09:41:00            Profit  "
      ]
     },
     "execution_count": 29,
     "metadata": {},
     "output_type": "execute_result"
    }
   ],
   "source": [
    "all_trade_summary[all_trade_summary['Profit'].abs()>15]"
   ]
  },
  {
   "cell_type": "markdown",
   "metadata": {},
   "source": [
    "And as shown here, the outliers in losses and gains (mostly losses) were all from far from moving average trade. As a natural next step, let's take a look at profit breakdown by TradeType"
   ]
  },
  {
   "cell_type": "code",
   "execution_count": 30,
   "metadata": {},
   "outputs": [
    {
     "data": {
      "text/plain": [
       "TradeType\n",
       "BaseTrade                    12.500000\n",
       "FarFromMovingAverageTrade   -89.241531\n",
       "Name: Profit, dtype: float64"
      ]
     },
     "execution_count": 30,
     "metadata": {},
     "output_type": "execute_result"
    }
   ],
   "source": [
    "all_trade_summary.groupby('TradeType').agg(np.sum)['Profit']"
   ]
  },
  {
   "cell_type": "markdown",
   "metadata": {},
   "source": [
    "Above, we have a summary of net profit by trade type. The base trade algorithm returned a profit of $12.50 while far from moving average trade algorithm lost a net \\\\$89.24\n",
    "\n",
    "As suspected, far from moving average algorithm caused more harm than good. Let's see next if shorting was more profitable or going long was more profitable"
   ]
  },
  {
   "cell_type": "code",
   "execution_count": 31,
   "metadata": {},
   "outputs": [
    {
     "data": {
      "text/plain": [
       "TradeStatus\n",
       "Long    -82.939026\n",
       "Short     6.197495\n",
       "Name: Profit, dtype: float64"
      ]
     },
     "execution_count": 31,
     "metadata": {},
     "output_type": "execute_result"
    }
   ],
   "source": [
    "all_trade_summary.groupby('TradeStatus').agg(np.sum)['Profit']"
   ]
  },
  {
   "cell_type": "markdown",
   "metadata": {},
   "source": [
    "In terms of going long on a stock or shorting a stock, it definitely seems more profitable to short a stock"
   ]
  },
  {
   "cell_type": "code",
   "execution_count": 32,
   "metadata": {},
   "outputs": [
    {
     "data": {
      "text/plain": [
       "TradeType                  TradeStatus\n",
       "BaseTrade                  Long          -59.000000\n",
       "                           Short          71.500000\n",
       "FarFromMovingAverageTrade  Long          -23.939026\n",
       "                           Short         -65.302505\n",
       "Name: Profit, dtype: float64"
      ]
     },
     "execution_count": 32,
     "metadata": {},
     "output_type": "execute_result"
    }
   ],
   "source": [
    "all_trade_summary.groupby(['TradeType','TradeStatus']).agg(np.sum)['Profit']"
   ]
  },
  {
   "cell_type": "markdown",
   "metadata": {},
   "source": [
    "The most profitable strategy seems to be only executing on short trade signals for base trade algorithm. If the bot only acted on this signal, then it would be reasonably profitable over 19 business days. It would return about 0.715% over a month, which annualizes to about 8.92% over a year. 8.92% annual return would beat most hedge funds. However, this data is only for over a month, so the comparison is not valid.\n",
    "\n",
    "Let's see if a particular buying time of the trade has any significant impact on profit or loss on trades"
   ]
  },
  {
   "cell_type": "code",
   "execution_count": 33,
   "metadata": {},
   "outputs": [
    {
     "data": {
      "text/plain": [
       "Text(0.5, 1.0, 'Distribution of Profits and Losses by Trade and Buy Time')"
      ]
     },
     "execution_count": 33,
     "metadata": {},
     "output_type": "execute_result"
    },
    {
     "data": {
      "image/png": "[encoded data removed]",
      "text/plain": [
       "<Figure size 432x288 with 1 Axes>"
      ]
     },
     "metadata": {
      "needs_background": "light"
     },
     "output_type": "display_data"
    }
   ],
   "source": [
    "sb.boxplot(x = 'Profit_Loss_Label', y = 'BuyTimeMinute', data = all_trade_summary)\n",
    "plt.xlabel('Trade Classification')\n",
    "plt.ylabel('Buy Time In Minutes Elapsed')\n",
    "plt.title('Distribution of Profits and Losses by Trade and Buy Time')"
   ]
  },
  {
   "cell_type": "markdown",
   "metadata": {},
   "source": [
    "Visually, we can see that buy time distribution of both winning and losing trades are roughly the same. \n",
    "\n",
    "So it is unlikely that the time of the day when a stock is bought affects the profit/loss on a a particular trade"
   ]
  },
  {
   "cell_type": "markdown",
   "metadata": {},
   "source": [
    "## 6.3 Base Trade Summary Analysis"
   ]
  },
  {
   "cell_type": "code",
   "execution_count": 34,
   "metadata": {},
   "outputs": [
    {
     "data": {
      "text/html": [
       "<div>\n",
       "<style scoped>\n",
       "    .dataframe tbody tr th:only-of-type {\n",
       "        vertical-align: middle;\n",
       "    }\n",
       "\n",
       "    .dataframe tbody tr th {\n",
       "        vertical-align: top;\n",
       "    }\n",
       "\n",
       "    .dataframe thead th {\n",
       "        text-align: right;\n",
       "    }\n",
       "</style>\n",
       "<table border=\"1\" class=\"dataframe\">\n",
       "  <thead>\n",
       "    <tr style=\"text-align: right;\">\n",
       "      <th></th>\n",
       "      <th>Date</th>\n",
       "      <th>StartTime</th>\n",
       "      <th>EndTime</th>\n",
       "      <th>StartTimeIndex</th>\n",
       "      <th>EndTimeIndex</th>\n",
       "      <th>MaxDifStockPrice</th>\n",
       "      <th>MinDifStockPrice</th>\n",
       "      <th>MaxDif</th>\n",
       "      <th>MinDif</th>\n",
       "      <th>MaxDifAbs</th>\n",
       "      <th>MaxDifTime</th>\n",
       "      <th>MinDiftime</th>\n",
       "      <th>TradeSignal</th>\n",
       "      <th>BuyTime</th>\n",
       "      <th>BuyTimeIndex</th>\n",
       "      <th>BuyPrice</th>\n",
       "      <th>StopLossPrice</th>\n",
       "      <th>LimitSellPrice</th>\n",
       "      <th>ExecutedOnSignal</th>\n",
       "    </tr>\n",
       "  </thead>\n",
       "  <tbody>\n",
       "    <tr>\n",
       "      <td>0</td>\n",
       "      <td>2020-03-10</td>\n",
       "      <td>09:30:00</td>\n",
       "      <td>09:59:00</td>\n",
       "      <td>0</td>\n",
       "      <td>29</td>\n",
       "      <td>279.809998</td>\n",
       "      <td>275.309998</td>\n",
       "      <td>1.750000</td>\n",
       "      <td>-2.750000</td>\n",
       "      <td>2.750000</td>\n",
       "      <td>09:58:00</td>\n",
       "      <td>09:40:00</td>\n",
       "      <td>Nothing</td>\n",
       "      <td>Nothing</td>\n",
       "      <td>NaN</td>\n",
       "      <td>NaN</td>\n",
       "      <td>NaN</td>\n",
       "      <td>NaN</td>\n",
       "      <td>Nothing</td>\n",
       "    </tr>\n",
       "    <tr>\n",
       "      <td>1</td>\n",
       "      <td>2020-03-10</td>\n",
       "      <td>09:31:00</td>\n",
       "      <td>10:00:00</td>\n",
       "      <td>1</td>\n",
       "      <td>30</td>\n",
       "      <td>279.809998</td>\n",
       "      <td>275.309998</td>\n",
       "      <td>2.429993</td>\n",
       "      <td>-2.070007</td>\n",
       "      <td>2.429993</td>\n",
       "      <td>09:58:00</td>\n",
       "      <td>09:40:00</td>\n",
       "      <td>Nothing</td>\n",
       "      <td>Nothing</td>\n",
       "      <td>NaN</td>\n",
       "      <td>NaN</td>\n",
       "      <td>NaN</td>\n",
       "      <td>NaN</td>\n",
       "      <td>Nothing</td>\n",
       "    </tr>\n",
       "    <tr>\n",
       "      <td>2</td>\n",
       "      <td>2020-03-10</td>\n",
       "      <td>09:32:00</td>\n",
       "      <td>10:01:00</td>\n",
       "      <td>2</td>\n",
       "      <td>31</td>\n",
       "      <td>279.809998</td>\n",
       "      <td>275.309998</td>\n",
       "      <td>2.049988</td>\n",
       "      <td>-2.450012</td>\n",
       "      <td>2.450012</td>\n",
       "      <td>09:58:00</td>\n",
       "      <td>09:40:00</td>\n",
       "      <td>Nothing</td>\n",
       "      <td>Nothing</td>\n",
       "      <td>NaN</td>\n",
       "      <td>NaN</td>\n",
       "      <td>NaN</td>\n",
       "      <td>NaN</td>\n",
       "      <td>Nothing</td>\n",
       "    </tr>\n",
       "    <tr>\n",
       "      <td>3</td>\n",
       "      <td>2020-03-10</td>\n",
       "      <td>09:33:00</td>\n",
       "      <td>10:02:00</td>\n",
       "      <td>3</td>\n",
       "      <td>32</td>\n",
       "      <td>280.110107</td>\n",
       "      <td>275.309998</td>\n",
       "      <td>1.675110</td>\n",
       "      <td>-3.125000</td>\n",
       "      <td>3.125000</td>\n",
       "      <td>10:02:00</td>\n",
       "      <td>09:40:00</td>\n",
       "      <td>Nothing</td>\n",
       "      <td>Nothing</td>\n",
       "      <td>NaN</td>\n",
       "      <td>NaN</td>\n",
       "      <td>NaN</td>\n",
       "      <td>NaN</td>\n",
       "      <td>Nothing</td>\n",
       "    </tr>\n",
       "    <tr>\n",
       "      <td>4</td>\n",
       "      <td>2020-03-10</td>\n",
       "      <td>09:34:00</td>\n",
       "      <td>10:03:00</td>\n",
       "      <td>4</td>\n",
       "      <td>33</td>\n",
       "      <td>280.350006</td>\n",
       "      <td>275.309998</td>\n",
       "      <td>1.389099</td>\n",
       "      <td>-3.650909</td>\n",
       "      <td>3.650909</td>\n",
       "      <td>10:03:00</td>\n",
       "      <td>09:40:00</td>\n",
       "      <td>Nothing</td>\n",
       "      <td>Nothing</td>\n",
       "      <td>NaN</td>\n",
       "      <td>NaN</td>\n",
       "      <td>NaN</td>\n",
       "      <td>NaN</td>\n",
       "      <td>Nothing</td>\n",
       "    </tr>\n",
       "  </tbody>\n",
       "</table>\n",
       "</div>"
      ],
      "text/plain": [
       "         Date StartTime   EndTime  StartTimeIndex  EndTimeIndex  \\\n",
       "0  2020-03-10  09:30:00  09:59:00               0            29   \n",
       "1  2020-03-10  09:31:00  10:00:00               1            30   \n",
       "2  2020-03-10  09:32:00  10:01:00               2            31   \n",
       "3  2020-03-10  09:33:00  10:02:00               3            32   \n",
       "4  2020-03-10  09:34:00  10:03:00               4            33   \n",
       "\n",
       "   MaxDifStockPrice  MinDifStockPrice    MaxDif    MinDif  MaxDifAbs  \\\n",
       "0        279.809998        275.309998  1.750000 -2.750000   2.750000   \n",
       "1        279.809998        275.309998  2.429993 -2.070007   2.429993   \n",
       "2        279.809998        275.309998  2.049988 -2.450012   2.450012   \n",
       "3        280.110107        275.309998  1.675110 -3.125000   3.125000   \n",
       "4        280.350006        275.309998  1.389099 -3.650909   3.650909   \n",
       "\n",
       "  MaxDifTime MinDiftime TradeSignal  BuyTime  BuyTimeIndex  BuyPrice  \\\n",
       "0   09:58:00   09:40:00     Nothing  Nothing           NaN       NaN   \n",
       "1   09:58:00   09:40:00     Nothing  Nothing           NaN       NaN   \n",
       "2   09:58:00   09:40:00     Nothing  Nothing           NaN       NaN   \n",
       "3   10:02:00   09:40:00     Nothing  Nothing           NaN       NaN   \n",
       "4   10:03:00   09:40:00     Nothing  Nothing           NaN       NaN   \n",
       "\n",
       "   StopLossPrice  LimitSellPrice ExecutedOnSignal  \n",
       "0            NaN             NaN          Nothing  \n",
       "1            NaN             NaN          Nothing  \n",
       "2            NaN             NaN          Nothing  \n",
       "3            NaN             NaN          Nothing  \n",
       "4            NaN             NaN          Nothing  "
      ]
     },
     "execution_count": 34,
     "metadata": {},
     "output_type": "execute_result"
    }
   ],
   "source": [
    "base_trade_summary = pd.read_csv('BaseTradeSummary30Days.csv', index_col = 0)\n",
    "far_moving_average_trade_summary = pd.read_csv('FarFromMovingAverageTradeSummary30Days.csv', index_col = 0)\n",
    "base_trade_summary.head()"
   ]
  },
  {
   "cell_type": "markdown",
   "metadata": {},
   "source": [
    "This DataFrame primary contains data of every 30-minute interval along with the stock's price range, the max/min stock's price during a 30-minute interval and their corresponding time, and so on\n",
    "\n",
    "StartTimeIndex and EndTimeIndex are the numbers of minutes passed since the market opened (9:30 AM). The difference between StarTimeIndex and EndTimeIndex is always 30 minutes because we are using each 30-minute block of time to check if the stock is in a base.\n",
    "\n",
    "The particular column of interest is TradeSignal and ExecutedOnSignal"
   ]
  },
  {
   "cell_type": "code",
   "execution_count": 35,
   "metadata": {},
   "outputs": [
    {
     "data": {
      "text/plain": [
       "array(['Nothing', 'Base', 'Short', 'Long'], dtype=object)"
      ]
     },
     "execution_count": 35,
     "metadata": {},
     "output_type": "execute_result"
    }
   ],
   "source": [
    "base_trade_summary['TradeSignal'].unique()"
   ]
  },
  {
   "cell_type": "markdown",
   "metadata": {},
   "source": [
    "The TradeSignal column contains four values, as shown above\n",
    "- Nothing implies that the stock was not in a base during the 30-minute interval\n",
    "- Base means that the stock was in a base but did not break the base in the 31st minute\n",
    "- Long/Short implies that the stock was in a base and did break the base in the upward or downward direction"
   ]
  },
  {
   "cell_type": "code",
   "execution_count": 36,
   "metadata": {},
   "outputs": [
    {
     "data": {
      "text/plain": [
       "array(['Nothing', 'Yes', 'No'], dtype=object)"
      ]
     },
     "execution_count": 36,
     "metadata": {},
     "output_type": "execute_result"
    }
   ],
   "source": [
    "base_trade_summary['ExecutedOnSignal'].unique()"
   ]
  },
  {
   "cell_type": "markdown",
   "metadata": {},
   "source": [
    "The ExecutedOnSignal contains three values as shown above\n",
    "-\tNothing implies that there was no base trading signal. Thus there was no question of the bot acting on a signal\n",
    "-\tYes means that there was a base trade signal, and the bot acted on the signal\n",
    "-\tNo implies that there was a base trade signal and the bot did not act on it\n",
    "\n",
    "Since it was established that base trade and shorting a stock is likely the most profitable trade, let's see how many of those signal, the bot did not act on"
   ]
  },
  {
   "cell_type": "code",
   "execution_count": 37,
   "metadata": {},
   "outputs": [
    {
     "data": {
      "text/plain": [
       "Nothing    6497\n",
       "Yes         182\n",
       "No           86\n",
       "Name: ExecutedOnSignal, dtype: int64"
      ]
     },
     "execution_count": 37,
     "metadata": {},
     "output_type": "execute_result"
    }
   ],
   "source": [
    "base_trade_summary['ExecutedOnSignal'].value_counts()"
   ]
  },
  {
   "cell_type": "code",
   "execution_count": 38,
   "metadata": {},
   "outputs": [],
   "source": [
    "#Bit of processing to show summarized data by ExecutedOnSignal and TradeSignal\n",
    "grouped_executed_tradeSignal = base_trade_summary.groupby(['ExecutedOnSignal', 'TradeSignal']).agg({'Date':'count'})\n",
    "grouped_executed_tradeSignal.columns = ['count']\n",
    "grouped_executed_tradeSignal.reset_index(inplace = True)"
   ]
  },
  {
   "cell_type": "code",
   "execution_count": 39,
   "metadata": {},
   "outputs": [
    {
     "data": {
      "text/html": [
       "<div>\n",
       "<style scoped>\n",
       "    .dataframe tbody tr th:only-of-type {\n",
       "        vertical-align: middle;\n",
       "    }\n",
       "\n",
       "    .dataframe tbody tr th {\n",
       "        vertical-align: top;\n",
       "    }\n",
       "\n",
       "    .dataframe thead th {\n",
       "        text-align: right;\n",
       "    }\n",
       "</style>\n",
       "<table border=\"1\" class=\"dataframe\">\n",
       "  <thead>\n",
       "    <tr style=\"text-align: right;\">\n",
       "      <th></th>\n",
       "      <th>ExecutedOnSignal</th>\n",
       "      <th>TradeSignal</th>\n",
       "      <th>count</th>\n",
       "    </tr>\n",
       "  </thead>\n",
       "  <tbody>\n",
       "    <tr>\n",
       "      <td>0</td>\n",
       "      <td>No</td>\n",
       "      <td>Long</td>\n",
       "      <td>44</td>\n",
       "    </tr>\n",
       "    <tr>\n",
       "      <td>1</td>\n",
       "      <td>No</td>\n",
       "      <td>Short</td>\n",
       "      <td>42</td>\n",
       "    </tr>\n",
       "    <tr>\n",
       "      <td>2</td>\n",
       "      <td>Nothing</td>\n",
       "      <td>Base</td>\n",
       "      <td>1097</td>\n",
       "    </tr>\n",
       "    <tr>\n",
       "      <td>3</td>\n",
       "      <td>Nothing</td>\n",
       "      <td>Nothing</td>\n",
       "      <td>5400</td>\n",
       "    </tr>\n",
       "    <tr>\n",
       "      <td>4</td>\n",
       "      <td>Yes</td>\n",
       "      <td>Long</td>\n",
       "      <td>87</td>\n",
       "    </tr>\n",
       "    <tr>\n",
       "      <td>5</td>\n",
       "      <td>Yes</td>\n",
       "      <td>Short</td>\n",
       "      <td>95</td>\n",
       "    </tr>\n",
       "  </tbody>\n",
       "</table>\n",
       "</div>"
      ],
      "text/plain": [
       "  ExecutedOnSignal TradeSignal  count\n",
       "0               No        Long     44\n",
       "1               No       Short     42\n",
       "2          Nothing        Base   1097\n",
       "3          Nothing     Nothing   5400\n",
       "4              Yes        Long     87\n",
       "5              Yes       Short     95"
      ]
     },
     "execution_count": 39,
     "metadata": {},
     "output_type": "execute_result"
    }
   ],
   "source": [
    "grouped_executed_tradeSignal"
   ]
  },
  {
   "cell_type": "markdown",
   "metadata": {},
   "source": [
    "About equal number of trade signal was ignored by the bot for both long and short trade signal"
   ]
  },
  {
   "cell_type": "code",
   "execution_count": 40,
   "metadata": {},
   "outputs": [
    {
     "data": {
      "text/plain": [
       "383"
      ]
     },
     "execution_count": 40,
     "metadata": {},
     "output_type": "execute_result"
    }
   ],
   "source": [
    "base_trade_summary[base_trade_summary['ExecutedOnSignal'] == 'No']['EndTimeIndex'].max()"
   ]
  },
  {
   "cell_type": "markdown",
   "metadata": {},
   "source": [
    "Recall that the bot was constrained to not trade after 3:30 PM. 3:30 PM would correspond to a TimeIndex of 390 (implying 390 minutes passed since 9:30 AM). Since 383<390, no base trade signal was rejected due to time constraints on the bot. There were only four far from moving average trade executed over 19 days compared to 182 base trade. So active base trade and or maximum profit loss constraint likely caused the bot to ignore the trade signal."
   ]
  },
  {
   "cell_type": "markdown",
   "metadata": {},
   "source": [
    "## 6.4 Far From Moving Average Trade Summary Analysis"
   ]
  },
  {
   "cell_type": "code",
   "execution_count": 41,
   "metadata": {},
   "outputs": [
    {
     "data": {
      "text/html": [
       "<div>\n",
       "<style scoped>\n",
       "    .dataframe tbody tr th:only-of-type {\n",
       "        vertical-align: middle;\n",
       "    }\n",
       "\n",
       "    .dataframe tbody tr th {\n",
       "        vertical-align: top;\n",
       "    }\n",
       "\n",
       "    .dataframe thead th {\n",
       "        text-align: right;\n",
       "    }\n",
       "</style>\n",
       "<table border=\"1\" class=\"dataframe\">\n",
       "  <thead>\n",
       "    <tr style=\"text-align: right;\">\n",
       "      <th></th>\n",
       "      <th>CurrentDate</th>\n",
       "      <th>LastPrice</th>\n",
       "      <th>CurrentPrice</th>\n",
       "      <th>CurrentRsi</th>\n",
       "      <th>ClosestEmaPrice</th>\n",
       "      <th>DiffFromClosestEma</th>\n",
       "      <th>TradeSignal</th>\n",
       "      <th>BuyPrice</th>\n",
       "      <th>LimitSellPrice</th>\n",
       "      <th>StopLossPrice</th>\n",
       "      <th>ExecutedOnSignal</th>\n",
       "    </tr>\n",
       "  </thead>\n",
       "  <tbody>\n",
       "    <tr>\n",
       "      <td>1</td>\n",
       "      <td>2020-03-10</td>\n",
       "      <td>278.059998</td>\n",
       "      <td>277.380005</td>\n",
       "      <td>63.577685</td>\n",
       "      <td>272.404219</td>\n",
       "      <td>5.655778</td>\n",
       "      <td>Nothing</td>\n",
       "      <td>NaN</td>\n",
       "      <td>NaN</td>\n",
       "      <td>NaN</td>\n",
       "      <td>Nothing</td>\n",
       "    </tr>\n",
       "    <tr>\n",
       "      <td>2</td>\n",
       "      <td>2020-03-10</td>\n",
       "      <td>277.380005</td>\n",
       "      <td>277.760010</td>\n",
       "      <td>64.260264</td>\n",
       "      <td>273.475378</td>\n",
       "      <td>3.904627</td>\n",
       "      <td>Nothing</td>\n",
       "      <td>NaN</td>\n",
       "      <td>NaN</td>\n",
       "      <td>NaN</td>\n",
       "      <td>Nothing</td>\n",
       "    </tr>\n",
       "    <tr>\n",
       "      <td>3</td>\n",
       "      <td>2020-03-10</td>\n",
       "      <td>277.760010</td>\n",
       "      <td>278.434998</td>\n",
       "      <td>65.497156</td>\n",
       "      <td>274.467302</td>\n",
       "      <td>3.292708</td>\n",
       "      <td>Nothing</td>\n",
       "      <td>NaN</td>\n",
       "      <td>NaN</td>\n",
       "      <td>NaN</td>\n",
       "      <td>Nothing</td>\n",
       "    </tr>\n",
       "    <tr>\n",
       "      <td>4</td>\n",
       "      <td>2020-03-10</td>\n",
       "      <td>278.434998</td>\n",
       "      <td>278.960907</td>\n",
       "      <td>66.470807</td>\n",
       "      <td>275.366023</td>\n",
       "      <td>3.068975</td>\n",
       "      <td>Nothing</td>\n",
       "      <td>NaN</td>\n",
       "      <td>NaN</td>\n",
       "      <td>NaN</td>\n",
       "      <td>Nothing</td>\n",
       "    </tr>\n",
       "    <tr>\n",
       "      <td>5</td>\n",
       "      <td>2020-03-10</td>\n",
       "      <td>278.960907</td>\n",
       "      <td>277.248993</td>\n",
       "      <td>60.487143</td>\n",
       "      <td>275.742617</td>\n",
       "      <td>3.218290</td>\n",
       "      <td>Nothing</td>\n",
       "      <td>NaN</td>\n",
       "      <td>NaN</td>\n",
       "      <td>NaN</td>\n",
       "      <td>Nothing</td>\n",
       "    </tr>\n",
       "  </tbody>\n",
       "</table>\n",
       "</div>"
      ],
      "text/plain": [
       "  CurrentDate   LastPrice  CurrentPrice  CurrentRsi  ClosestEmaPrice  \\\n",
       "1  2020-03-10  278.059998    277.380005   63.577685       272.404219   \n",
       "2  2020-03-10  277.380005    277.760010   64.260264       273.475378   \n",
       "3  2020-03-10  277.760010    278.434998   65.497156       274.467302   \n",
       "4  2020-03-10  278.434998    278.960907   66.470807       275.366023   \n",
       "5  2020-03-10  278.960907    277.248993   60.487143       275.742617   \n",
       "\n",
       "   DiffFromClosestEma TradeSignal  BuyPrice  LimitSellPrice  StopLossPrice  \\\n",
       "1            5.655778     Nothing       NaN             NaN            NaN   \n",
       "2            3.904627     Nothing       NaN             NaN            NaN   \n",
       "3            3.292708     Nothing       NaN             NaN            NaN   \n",
       "4            3.068975     Nothing       NaN             NaN            NaN   \n",
       "5            3.218290     Nothing       NaN             NaN            NaN   \n",
       "\n",
       "  ExecutedOnSignal  \n",
       "1          Nothing  \n",
       "2          Nothing  \n",
       "3          Nothing  \n",
       "4          Nothing  \n",
       "5          Nothing  "
      ]
     },
     "execution_count": 41,
     "metadata": {},
     "output_type": "execute_result"
    }
   ],
   "source": [
    "far_moving_average_trade_summary.head()"
   ]
  },
  {
   "cell_type": "markdown",
   "metadata": {},
   "source": [
    "This DataFrame contains a summary of result outputted by the bot for every minute the market was open from March 10, 2020, to April 3, 2020\n",
    "\n",
    "Only analysis for 9:30 AM is excluded as the far from moving average trade algorithm needs at least one previous minute of data to see if the stock price trend is breaking. I did not want to use the previous day's data at 4 PM as the last price as lots of trading happens after hours, which's data is not available from Yahoo Finance. Thus, using 9:30 AM data as the starting point of the trading algorithm made more sense.\n",
    "\n",
    "The indices here range from 1 to 389 for each day and then repeated for a new day. The row indices are Time Index or how many minutes have passed since 9:30 AM. The rest of the columns are self-explanatory based on the discussion so far, and thus not explained further."
   ]
  },
  {
   "cell_type": "code",
   "execution_count": 42,
   "metadata": {},
   "outputs": [
    {
     "data": {
      "text/plain": [
       "array(['Nothing', 'Yes'], dtype=object)"
      ]
     },
     "execution_count": 42,
     "metadata": {},
     "output_type": "execute_result"
    }
   ],
   "source": [
    "far_moving_average_trade_summary['ExecutedOnSignal'].unique()"
   ]
  },
  {
   "cell_type": "markdown",
   "metadata": {},
   "source": [
    "So bot executed on every trade signal generated by the far from moving average trade signal"
   ]
  },
  {
   "cell_type": "code",
   "execution_count": 43,
   "metadata": {},
   "outputs": [
    {
     "data": {
      "text/html": [
       "<div>\n",
       "<style scoped>\n",
       "    .dataframe tbody tr th:only-of-type {\n",
       "        vertical-align: middle;\n",
       "    }\n",
       "\n",
       "    .dataframe tbody tr th {\n",
       "        vertical-align: top;\n",
       "    }\n",
       "\n",
       "    .dataframe thead th {\n",
       "        text-align: right;\n",
       "    }\n",
       "</style>\n",
       "<table border=\"1\" class=\"dataframe\">\n",
       "  <thead>\n",
       "    <tr style=\"text-align: right;\">\n",
       "      <th></th>\n",
       "      <th>CurrentDate</th>\n",
       "      <th>LastPrice</th>\n",
       "      <th>CurrentPrice</th>\n",
       "      <th>CurrentRsi</th>\n",
       "      <th>ClosestEmaPrice</th>\n",
       "      <th>DiffFromClosestEma</th>\n",
       "      <th>TradeSignal</th>\n",
       "      <th>BuyPrice</th>\n",
       "      <th>LimitSellPrice</th>\n",
       "      <th>StopLossPrice</th>\n",
       "      <th>ExecutedOnSignal</th>\n",
       "    </tr>\n",
       "  </thead>\n",
       "  <tbody>\n",
       "    <tr>\n",
       "      <td>1</td>\n",
       "      <td>2020-03-12</td>\n",
       "      <td>256.640015</td>\n",
       "      <td>257.269989</td>\n",
       "      <td>16.043969</td>\n",
       "      <td>269.217919</td>\n",
       "      <td>12.577904</td>\n",
       "      <td>Long</td>\n",
       "      <td>257.269989</td>\n",
       "      <td>257.769989</td>\n",
       "      <td>256.640015</td>\n",
       "      <td>Yes</td>\n",
       "    </tr>\n",
       "    <tr>\n",
       "      <td>200</td>\n",
       "      <td>2020-03-12</td>\n",
       "      <td>268.480011</td>\n",
       "      <td>267.309998</td>\n",
       "      <td>82.616273</td>\n",
       "      <td>261.965135</td>\n",
       "      <td>6.514876</td>\n",
       "      <td>Short</td>\n",
       "      <td>267.309998</td>\n",
       "      <td>266.809998</td>\n",
       "      <td>268.480011</td>\n",
       "      <td>Yes</td>\n",
       "    </tr>\n",
       "    <tr>\n",
       "      <td>2</td>\n",
       "      <td>2020-03-25</td>\n",
       "      <td>254.291595</td>\n",
       "      <td>253.240005</td>\n",
       "      <td>81.304118</td>\n",
       "      <td>249.297852</td>\n",
       "      <td>4.993743</td>\n",
       "      <td>Short</td>\n",
       "      <td>253.240005</td>\n",
       "      <td>252.740005</td>\n",
       "      <td>254.291595</td>\n",
       "      <td>Yes</td>\n",
       "    </tr>\n",
       "    <tr>\n",
       "      <td>10</td>\n",
       "      <td>2020-03-25</td>\n",
       "      <td>257.829987</td>\n",
       "      <td>257.019989</td>\n",
       "      <td>81.000958</td>\n",
       "      <td>255.493175</td>\n",
       "      <td>2.336811</td>\n",
       "      <td>Short</td>\n",
       "      <td>257.019989</td>\n",
       "      <td>256.519989</td>\n",
       "      <td>257.829987</td>\n",
       "      <td>Yes</td>\n",
       "    </tr>\n",
       "  </tbody>\n",
       "</table>\n",
       "</div>"
      ],
      "text/plain": [
       "    CurrentDate   LastPrice  CurrentPrice  CurrentRsi  ClosestEmaPrice  \\\n",
       "1    2020-03-12  256.640015    257.269989   16.043969       269.217919   \n",
       "200  2020-03-12  268.480011    267.309998   82.616273       261.965135   \n",
       "2    2020-03-25  254.291595    253.240005   81.304118       249.297852   \n",
       "10   2020-03-25  257.829987    257.019989   81.000958       255.493175   \n",
       "\n",
       "     DiffFromClosestEma TradeSignal    BuyPrice  LimitSellPrice  \\\n",
       "1             12.577904        Long  257.269989      257.769989   \n",
       "200            6.514876       Short  267.309998      266.809998   \n",
       "2              4.993743       Short  253.240005      252.740005   \n",
       "10             2.336811       Short  257.019989      256.519989   \n",
       "\n",
       "     StopLossPrice ExecutedOnSignal  \n",
       "1       256.640015              Yes  \n",
       "200     268.480011              Yes  \n",
       "2       254.291595              Yes  \n",
       "10      257.829987              Yes  "
      ]
     },
     "execution_count": 43,
     "metadata": {},
     "output_type": "execute_result"
    }
   ],
   "source": [
    "far_moving_average_trade_summary.loc[far_moving_average_trade_summary['ExecutedOnSignal'] == 'Yes',:]"
   ]
  },
  {
   "cell_type": "markdown",
   "metadata": {},
   "source": [
    "Only four far from moving average trade was made in a month.  The RSI threshold of 20 and 80 is not easily crossed without an exceptional market environment like in the first and second quarter of 2020; there was a  panic selling followed by massive buying, resulting in a V-shaped recovery. Thus, the few numbers of far from moving average trade make sense."
   ]
  },
  {
   "cell_type": "code",
   "execution_count": 44,
   "metadata": {},
   "outputs": [
    {
     "data": {
      "text/html": [
       "<div>\n",
       "<style scoped>\n",
       "    .dataframe tbody tr th:only-of-type {\n",
       "        vertical-align: middle;\n",
       "    }\n",
       "\n",
       "    .dataframe tbody tr th {\n",
       "        vertical-align: top;\n",
       "    }\n",
       "\n",
       "    .dataframe thead th {\n",
       "        text-align: right;\n",
       "    }\n",
       "</style>\n",
       "<table border=\"1\" class=\"dataframe\">\n",
       "  <thead>\n",
       "    <tr style=\"text-align: right;\">\n",
       "      <th></th>\n",
       "      <th>BuyTimeMinute</th>\n",
       "      <th>CurrentDay</th>\n",
       "      <th>TradeType</th>\n",
       "      <th>TradeStatus</th>\n",
       "      <th>TradeId</th>\n",
       "      <th>BuyPrice</th>\n",
       "      <th>LimitSellPrice</th>\n",
       "      <th>StopLossPrice</th>\n",
       "      <th>NumShares</th>\n",
       "      <th>Profit</th>\n",
       "      <th>IsTradeComplete</th>\n",
       "      <th>SoldTime</th>\n",
       "      <th>Profit_Loss_Label</th>\n",
       "    </tr>\n",
       "  </thead>\n",
       "  <tbody>\n",
       "    <tr>\n",
       "      <td>18</td>\n",
       "      <td>1</td>\n",
       "      <td>2020-03-12</td>\n",
       "      <td>FarFromMovingAverageTrade</td>\n",
       "      <td>Long</td>\n",
       "      <td>1</td>\n",
       "      <td>257.269989</td>\n",
       "      <td>257.769989</td>\n",
       "      <td>256.640015</td>\n",
       "      <td>38</td>\n",
       "      <td>-23.939026</td>\n",
       "      <td>Yes</td>\n",
       "      <td>09:33:00</td>\n",
       "      <td>Loss</td>\n",
       "    </tr>\n",
       "    <tr>\n",
       "      <td>19</td>\n",
       "      <td>200</td>\n",
       "      <td>2020-03-12</td>\n",
       "      <td>FarFromMovingAverageTrade</td>\n",
       "      <td>Short</td>\n",
       "      <td>200</td>\n",
       "      <td>267.309998</td>\n",
       "      <td>266.809998</td>\n",
       "      <td>268.480011</td>\n",
       "      <td>37</td>\n",
       "      <td>-43.290497</td>\n",
       "      <td>Yes</td>\n",
       "      <td>13:05:00</td>\n",
       "      <td>Loss</td>\n",
       "    </tr>\n",
       "    <tr>\n",
       "      <td>48</td>\n",
       "      <td>2</td>\n",
       "      <td>2020-03-25</td>\n",
       "      <td>FarFromMovingAverageTrade</td>\n",
       "      <td>Short</td>\n",
       "      <td>2</td>\n",
       "      <td>253.240005</td>\n",
       "      <td>252.740005</td>\n",
       "      <td>254.291595</td>\n",
       "      <td>39</td>\n",
       "      <td>-41.012009</td>\n",
       "      <td>Yes</td>\n",
       "      <td>09:33:00</td>\n",
       "      <td>Loss</td>\n",
       "    </tr>\n",
       "    <tr>\n",
       "      <td>49</td>\n",
       "      <td>10</td>\n",
       "      <td>2020-03-25</td>\n",
       "      <td>FarFromMovingAverageTrade</td>\n",
       "      <td>Short</td>\n",
       "      <td>10</td>\n",
       "      <td>257.019989</td>\n",
       "      <td>256.519989</td>\n",
       "      <td>257.829987</td>\n",
       "      <td>38</td>\n",
       "      <td>19.000000</td>\n",
       "      <td>Yes</td>\n",
       "      <td>09:41:00</td>\n",
       "      <td>Profit</td>\n",
       "    </tr>\n",
       "  </tbody>\n",
       "</table>\n",
       "</div>"
      ],
      "text/plain": [
       "    BuyTimeMinute  CurrentDay                  TradeType TradeStatus  TradeId  \\\n",
       "18              1  2020-03-12  FarFromMovingAverageTrade        Long        1   \n",
       "19            200  2020-03-12  FarFromMovingAverageTrade       Short      200   \n",
       "48              2  2020-03-25  FarFromMovingAverageTrade       Short        2   \n",
       "49             10  2020-03-25  FarFromMovingAverageTrade       Short       10   \n",
       "\n",
       "      BuyPrice  LimitSellPrice  StopLossPrice  NumShares     Profit  \\\n",
       "18  257.269989      257.769989     256.640015         38 -23.939026   \n",
       "19  267.309998      266.809998     268.480011         37 -43.290497   \n",
       "48  253.240005      252.740005     254.291595         39 -41.012009   \n",
       "49  257.019989      256.519989     257.829987         38  19.000000   \n",
       "\n",
       "   IsTradeComplete  SoldTime Profit_Loss_Label  \n",
       "18             Yes  09:33:00              Loss  \n",
       "19             Yes  13:05:00              Loss  \n",
       "48             Yes  09:33:00              Loss  \n",
       "49             Yes  09:41:00            Profit  "
      ]
     },
     "execution_count": 44,
     "metadata": {},
     "output_type": "execute_result"
    }
   ],
   "source": [
    "all_trade_summary[all_trade_summary['TradeType'] == 'FarFromMovingAverageTrade']"
   ]
  },
  {
   "cell_type": "markdown",
   "metadata": {},
   "source": [
    "Above is a summary of how the far from moving average trades turned out repeated here for convenience. It does not look like there is much promise with far from moving average algorithm. Maybe, further tuning of the bot can help"
   ]
  },
  {
   "cell_type": "markdown",
   "metadata": {},
   "source": [
    "# 7.0 Future Goals and Improvement\n",
    "\n",
    "In terms of more near term improvements, I would like to repeat the same experiment over a couple of years for more conclusive ideas. I would also like to implement a smart stop loss, so the bot does not close a winning trade as soon as it reaches a fixed profit target. It should instead keep the trade alive and implement a rising stop-loss to preserve gains. Experimenting with stop-loss price and limit sell price is another option for a long list of things to test.\n",
    "\n",
    "The future goals and improvements for this project are massive. I intend to build a comprehensive trading system that utilizes a company’s fundamentals, news, and price chart to make trading decisions. Also, I want the trading system to trade other securities as well, such as options.\n",
    "\n",
    "Once the infrastructure is up, more focus can be made on testing different trading algorithms on a vast amount of data. The algorithms need to be run on stocks with varying prices, volumes, and exchanges. Also, the market behaves distinctly differently during economic prosperity vs. time of economic downturn and everything else in the middle. Stock’s performances are also affected by long term technological trends, geopolitical environments, and so on. Thus, the scope of testing is enormous. Ideally, the purpose of running all this test would be to calculate the probability of a trade being profitable very precisely. The bot could then only act on the trading signals that are most likely going to result in a profitable trade. All of this infrastructure building will require a massive upgrade in the software architecture with a high degree of focus on speed of analysis so trades can be made on time. After all, there is no point in building a sophisticated system that can predict a profitable trade after the time to execute has passed."
   ]
  },
  {
   "cell_type": "markdown",
   "metadata": {},
   "source": [
    "# 8.0 Conclusion\n",
    "\n",
    "This project looked at the result of a bot trading Apple’s stock (Ticker: AAPL) only for 19 business days with a starting capital of USD 10,000 between March 10, 2020, to April 3, 2020. The bot used the base trade algorithm and the far from moving average trade algorithm to make trading decisions.\n",
    "\n",
    "At the end of April 3, 2020, the account balance was \\\\$9923.26, a loss of \\\\$76.74. The total number of trades made was 186. The number of winning and losing trades was the same (93). However, the bot had more massive losses than gains. Far from moving, average trade lost a net \\\\$-89.24 while base trade won a net \\\\$12.50 over the simulation period. The best type of trade was shorting a stock from a base trade signal with a net profit of \\\\$71.50 over the simulation period.\n",
    "\n",
    "The analysis looked at a couple of variables to see if they provide any insight between winning and losing days/trades. The buy time of the trade does not predict whether a trade will be profitable or not. The stock’s price range and standard deviation in a given day also do not provide any insight on a day being profitable or not.\n",
    "\n",
    "Immediate improvements for this project include implementing a smart stop loss and fine-tuning the stop loss and limit sell price based on running the same experiment over long timeframes. The ultimate future goal is to create a comprehensive trading system that uses a company’s fundamentals, news, stock’s price chart, and underlying economic metrics to make trading decisions.\n",
    "\n",
    "In conclusion, this bot and project will serve as a good building block for a comprehensive trading system, and none of the results can be deemed conclusive because of the small sample size. "
   ]
  }
 ],
 "metadata": {
  "kernelspec": {
   "display_name": "Python 3.7.3 64-bit ('base': conda)",
   "language": "python",
   "name": "python37364bitbasecondaa52cc35361a54fde93ba82f78057f9b8"
  },
  "language_info": {
   "codemirror_mode": {
    "name": "ipython",
    "version": 3
   },
   "file_extension": ".py",
   "mimetype": "text/x-python",
   "name": "python",
   "nbconvert_exporter": "python",
   "pygments_lexer": "ipython3",
   "version": "3.7.4"
  }
 },
 "nbformat": 4,
 "nbformat_minor": 2
}